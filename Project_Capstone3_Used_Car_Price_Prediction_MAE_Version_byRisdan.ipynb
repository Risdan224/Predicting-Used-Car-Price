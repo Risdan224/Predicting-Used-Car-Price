{
 "cells": [
  {
   "cell_type": "markdown",
   "metadata": {},
   "source": [
    "# Saudi Used Car Prediction\n",
    "\n",
    "## By : Risdan Kristori"
   ]
  },
  {
   "cell_type": "markdown",
   "metadata": {},
   "source": [
    "Source and Reference:\n",
    "1. [Saudi Used Car Data (Provided by Purwadhika)](https://drive.google.com/file/d/1Tr4YT5dmgwTrXLvIqZ4diBf5z8K6JjrR/view?usp=sharing)\n",
    "2. [Market Opportunity for Used Car in Saudi Arabia by Ann Grace Villanueva](http://glasgowconsultinggroup.com/market-opportunities-for-used-cars-in-saudi-arabia-2020/)\n",
    "3. [Used Car Prediction using Machine Learning by Comets SDA](https://medium.com/@comets.sda/car-price-prediction-using-machine-learning-5bc0fc7c3fc4#id_token=eyJhbGciOiJSUzI1NiIsImtpZCI6Ijg2MTY0OWU0NTAzMTUzODNmNmI5ZDUxMGI3Y2Q0ZTkyMjZjM2NkODgiLCJ0eXAiOiJKV1QifQ.eyJpc3MiOiJodHRwczovL2FjY291bnRzLmdvb2dsZS5jb20iLCJuYmYiOjE2NTA5NzAzMjUsImF1ZCI6IjIxNjI5NjAzNTgzNC1rMWs2cWUwNjBzMnRwMmEyamFtNGxqZGNtczAwc3R0Zy5hcHBzLmdvb2dsZXVzZXJjb250ZW50LmNvbSIsInN1YiI6IjEwOTA0MjM5OTU0NzEwMjg0OTYxMyIsImVtYWlsIjoicmlzZGFuLmtyaXN0b3JpQGdtYWlsLmNvbSIsImVtYWlsX3ZlcmlmaWVkIjp0cnVlLCJhenAiOiIyMTYyOTYwMzU4MzQtazFrNnFlMDYwczJ0cDJhMmphbTRsamRjbXMwMHN0dGcuYXBwcy5nb29nbGV1c2VyY29udGVudC5jb20iLCJuYW1lIjoiUmlzZGFuIEtyaXN0b3JpIiwicGljdHVyZSI6Imh0dHBzOi8vbGgzLmdvb2dsZXVzZXJjb250ZW50LmNvbS9hLS9BT2gxNEdncmJZc3ZaMEx0cTZEXzZmM0xmYU15RGs4QmtiRGVYa2IwRDdJX09BPXM5Ni1jIiwiZ2l2ZW5fbmFtZSI6IlJpc2RhbiIsImZhbWlseV9uYW1lIjoiS3Jpc3RvcmkiLCJpYXQiOjE2NTA5NzA2MjUsImV4cCI6MTY1MDk3NDIyNSwianRpIjoiM2ZlNmRhNDNhYzAxNjlmOGE0ODgyYmQ1NmM3M2M0MTAxZDNlNTYzYyJ9.gc5utFX_fS5IQ1SgsksPg6SDUTrXxZuSeRf-F5jQKAK7Lo58x7oXux1veGUZCPpOYC5kFZhtlArRJwtJA7-RXWGKfv1YR6bJPWZvCr8SRrS_n2VjTDoYHKB4UyejDU14_3vpeNff9kWNlVeIhrGFnDemONgr52ieEXvY2j6OAG_zkyJOkWKdc-M_WmLoDCTSE-dIF7keNf0aLYZCpWTX7D7BP81w5b7uuMRbNdUpZme-h99z1RePc8Ber1yaAs-mpMpBsFBhdHNspVPqZF8qFfdhFLhq6cfQWOwdX_b-LWQzGseIjrgNRk61D2HpyuAmFBBOG8euzyHsgz9SuOuGnQ)\n",
    "4. [Saudi Arabia Market Outlook to 2025](https://www.kenresearch.com/automotive-transportation-and-warehousing/automotive-and-automotive-components/saudi-arabia-used-car-market-outlook-to-2025/356552-100.html#details)\n",
    "\n",
    "### **Contents**\n",
    "\n",
    "1. Business Problem Understanding\n",
    "2. Data Understanding\n",
    "3. Data Preprocessing\n",
    "4. Modeling\n",
    "5. Conclusion\n",
    "6. Recommendation\n",
    "\n",
    "****"
   ]
  },
  {
   "cell_type": "markdown",
   "metadata": {},
   "source": [
    "## Part 1: **Business Problem and Data Understanding**"
   ]
  },
  {
   "cell_type": "markdown",
   "metadata": {},
   "source": [
    "### Context\n",
    "\n",
    "**1. Saudi Arabia Market Opportunity**\n",
    "\n",
    "Kerajaan Saudi Arabia merupakan salah satu negara yang memiliki proyeksi pertumbuhan bisnis jual beli mobil bekas. Dilansir dari [kenresearch.com (Aashima Mendiratta, 2020)](https://www.kenresearch.com/automotive-transportation-and-warehousing/automotive-and-automotive-components/saudi-arabia-used-car-market-outlook-to-2025/356552-100.html#details) dengan meningkatnya pendapatan yang dapat dibelanjakan, bertambahnya jumlah supir perempuan (yang sebelumnya dilarang) dan tumbunnya pasar online jual beli mobil bekas merupakan faktor-faktor yang meningkatkan penjualan mobil bekas di negara tersebut. Di proyeksikan dari tahun 2019-2025, nilai (Gross Transaction Value) penjualan mobil bekas akan naik hingga 4.5% sedangkan volume penjualan akan meningkat hingga 2%.\n",
    "\n",
    "<img src=\"saudi_arabia_used_car_market_infographic.jpg\" alt=\"isolated\" width=\"700\"/>\n",
    "\n",
    "Dikutip dari [glasglowconsultinggroup.com (Ann Gracce, 2020)](http://glasgowconsultinggroup.com/market-opportunities-for-used-cars-in-saudi-arabia-2020/) pandemi covid-19 menyebabkan stok mobil bekas di negara tersebut melimpah dan pendapatan masyarakat berkurang. apalagi dengan dinaikkannya pajak pertambahan nilai dari 5% ke 15% di tahun 2020 menyebabkan calon pembeli mobil lebih akan tertarik untuk membeli mobil bekas. Pandemi covid-19 juga menyebabkan percepatan transaksi jual beli mobil ke arah platfrom online.\n",
    "\n",
    "Salah satu contoh webite yang menyediakan platform jual beli mobil bekas di Saudi Arabia adalah Syarah.com. Website ini mempertemukan penjual mobil bekas dengan calon pembelinya, terdapat berbagai macam jenis mobil bekas yang tersedia di platform ini. Penjual yang akan menawarkan mobil bekas di website menentukan sendiri harga mobilnya yang sesuai dengan kualitas mobil tersebut.\n",
    "\n",
    "**2. Used Car Price Problem**\n",
    "\n",
    "Salah satu permasalahan yang sering terjadi dalam bisnis jual beli mobil bekas adalah ketidakpastian harga mobil tersebut. Hal ini menjadi masalah tidak hanya untuk pembeli tetapi juga untuk penjual mobil. Harga yang diberikan untuk mobil bekas tergantung dari berbagai macam faktor yang terkait dengan mobil itu sendiri, seperti misalnya model, tahun produksi mobil, ukuran mesin dan lain-lain. Tidak semua orang yang ingin menjual mobilnya mengetahui fluktuasi harga mobil bekas sesuai dengan spesifikasi yang dimiliki oleh mobilnya. Bagi penjual jika dia memasang harga yang terlalu tinggi yang terjadi adalah mobil tersebut tidak akan laku terjual, sebaliknya jika penjual memasang harga terlalu rendah kerugianlah yang akhirnya didapatkan. Sebaliknya bagi pembeli yang tidak memiliki pengetahuan yang memadai mengenai harga mobil akan sangat kesulitan untuk memutuskan membeli mobil bekas."
   ]
  },
  {
   "cell_type": "markdown",
   "metadata": {},
   "source": [
    "**Problem Statement**\n",
    "\n",
    "Penjual dan pembeli mobil bekas yang tidak memiliki pengetahuan yang cukup mengenai mobil, akan kesulitan dalam menentukan harga mobil yang akan dijual. Hal ini dapat menyebabkan tidak lakunya mobil yang dijual atau kerugian bagi penjual, bagi pembeli kerugian yang didapat adalah sulitnya memutuskan untuk membeli sebuah mobil bekas."
   ]
  },
  {
   "cell_type": "markdown",
   "metadata": {},
   "source": [
    "**Goals**\n",
    "\n",
    "Berdasarkan permasalahan tersebut, akan dibuatkan sebuah model yang dapat memprediksi harga mobil bekas berdasarkan spesifikasi yang dimiliki oleh mobil tersebut. Harga yang dihasilkan oleh model ini akan menjadi referensi bagi penjual dan pembeli mobil jika akan melakukan transaksi jual beli mobil bekas. Tujuannya adalah supaya penjual/ pembeli mobil bekas mengambil keputusan lebih cepat dalam melakukan transaksi (menjual/ membeli).\n",
    "\n",
    "Model ini dapat digunakan oleh platform jual beli mobil bekas online seperti Syarah.com agar pengunjung website yang ingin menjual atau membeli tidak ragu dalam menentukan harga, hal ini akan berdampak pada naiknya jumlah transaksi pada platform dan menaikkan pertumbuhan bisnis mobil bekas."
   ]
  },
  {
   "cell_type": "markdown",
   "metadata": {},
   "source": [
    "**Analytic Approach**\n",
    "\n",
    "Dalam membuat model yang dapat memprediksi harga sebuah mobil bekas, pertama-tama dianalisis terlebih dahulu spesifikasi apa saja yang dapat berpengaruh terhadap harga tersebut. Kemudian dibuat berbagai macam model regresi yang bertujuan untuk menentukan harga, dan melalui model-model tersebut ditentukan model terbaik yang memberikan matrix terbaik yang akan digunakan sebagai final model."
   ]
  },
  {
   "cell_type": "markdown",
   "metadata": {},
   "source": [
    "**Matrix Evalution**\n",
    "\n",
    "Matrix yang akan digunakan untuk model ini adalah:\n",
    "- Root Mean Squared Error (rmse), **atau**\n",
    "- Mean Absolute Error (MAE)\n",
    "\n",
    "Matrix yang diperlukan akan ditentukan setelah kita melihat kareakteristik data yang akan digunakan."
   ]
  },
  {
   "cell_type": "markdown",
   "metadata": {},
   "source": [
    "### **Data Understanding**"
   ]
  },
  {
   "cell_type": "markdown",
   "metadata": {},
   "source": [
    "**Data Information**\n",
    "- Data yang digunakan merupakan data spesifikasi/fitur mobil bekas beserta beserta harga jualnya yang telah disediakan oleh Purwadhika. Dilihat dari bentuk dan pola data, diasumsikan bahwa data ini diambil dari website Syarah.com yang menjual mobil bekas di Saudi Arabia.\n",
    "- Data 'price'/harga untuk mobil bekas yang sifatnya 'negotiable' bernilai 0 (nol). Harga berdasarkan kesepakatan antara penjual dan pembeli."
   ]
  },
  {
   "cell_type": "markdown",
   "metadata": {},
   "source": [
    "#### Attribute Information\n",
    "\n",
    "| Attribute | Data Type| Description |\n",
    "| --- | --- | --- |\n",
    "| Type | Object | Type of used car |\n",
    "| Region | Object | The region in which the used car was offered for sale |\n",
    "| Make | Object | Name of the car company |\n",
    "| Gear_Type | Object | Automatic / Manual |\n",
    "| Origin | Object | Country of importer (Gulf / Saudi / Other) |\n",
    "| Options | Object | Full Options / Semi-Full / Standard |\n",
    "| Year | Int | Year of Manufacturing |\n",
    "| Enginee_Size | Float | The engine size of used car |\n",
    "| Mileage | Int | The distance that used car have travelled, measured in miles |\n",
    "| Negotiable | Bool | If True, the price is 0. This means the price is negotiable (not set) |\n",
    "| Price | int | Price of the used car (in SAR) |"
   ]
  },
  {
   "cell_type": "code",
   "execution_count": 3,
   "metadata": {},
   "outputs": [],
   "source": [
    "import pandas as pd \n",
    "import numpy as np\n",
    "import matplotlib.pyplot as plt\n",
    "import seaborn as sns\n",
    "\n",
    "import warnings\n",
    "warnings.filterwarnings('ignore')"
   ]
  },
  {
   "cell_type": "code",
   "execution_count": 4,
   "metadata": {},
   "outputs": [
    {
     "data": {
      "text/html": [
       "<div>\n",
       "<style scoped>\n",
       "    .dataframe tbody tr th:only-of-type {\n",
       "        vertical-align: middle;\n",
       "    }\n",
       "\n",
       "    .dataframe tbody tr th {\n",
       "        vertical-align: top;\n",
       "    }\n",
       "\n",
       "    .dataframe thead th {\n",
       "        text-align: right;\n",
       "    }\n",
       "</style>\n",
       "<table border=\"1\" class=\"dataframe\">\n",
       "  <thead>\n",
       "    <tr style=\"text-align: right;\">\n",
       "      <th></th>\n",
       "      <th>Type</th>\n",
       "      <th>Region</th>\n",
       "      <th>Make</th>\n",
       "      <th>Gear_Type</th>\n",
       "      <th>Origin</th>\n",
       "      <th>Options</th>\n",
       "      <th>Year</th>\n",
       "      <th>Engine_Size</th>\n",
       "      <th>Mileage</th>\n",
       "      <th>Negotiable</th>\n",
       "      <th>Price</th>\n",
       "    </tr>\n",
       "  </thead>\n",
       "  <tbody>\n",
       "    <tr>\n",
       "      <td>0</td>\n",
       "      <td>Corolla</td>\n",
       "      <td>Abha</td>\n",
       "      <td>Toyota</td>\n",
       "      <td>Manual</td>\n",
       "      <td>Saudi</td>\n",
       "      <td>Standard</td>\n",
       "      <td>2013</td>\n",
       "      <td>1.4</td>\n",
       "      <td>421000</td>\n",
       "      <td>True</td>\n",
       "      <td>0</td>\n",
       "    </tr>\n",
       "    <tr>\n",
       "      <td>1</td>\n",
       "      <td>Yukon</td>\n",
       "      <td>Riyadh</td>\n",
       "      <td>GMC</td>\n",
       "      <td>Automatic</td>\n",
       "      <td>Saudi</td>\n",
       "      <td>Full</td>\n",
       "      <td>2014</td>\n",
       "      <td>8.0</td>\n",
       "      <td>80000</td>\n",
       "      <td>False</td>\n",
       "      <td>120000</td>\n",
       "    </tr>\n",
       "    <tr>\n",
       "      <td>2</td>\n",
       "      <td>Range Rover</td>\n",
       "      <td>Riyadh</td>\n",
       "      <td>Land Rover</td>\n",
       "      <td>Automatic</td>\n",
       "      <td>Gulf Arabic</td>\n",
       "      <td>Full</td>\n",
       "      <td>2015</td>\n",
       "      <td>5.0</td>\n",
       "      <td>140000</td>\n",
       "      <td>False</td>\n",
       "      <td>260000</td>\n",
       "    </tr>\n",
       "    <tr>\n",
       "      <td>3</td>\n",
       "      <td>Optima</td>\n",
       "      <td>Hafar Al-Batin</td>\n",
       "      <td>Kia</td>\n",
       "      <td>Automatic</td>\n",
       "      <td>Saudi</td>\n",
       "      <td>Semi Full</td>\n",
       "      <td>2015</td>\n",
       "      <td>2.4</td>\n",
       "      <td>220000</td>\n",
       "      <td>False</td>\n",
       "      <td>42000</td>\n",
       "    </tr>\n",
       "    <tr>\n",
       "      <td>4</td>\n",
       "      <td>FJ</td>\n",
       "      <td>Riyadh</td>\n",
       "      <td>Toyota</td>\n",
       "      <td>Automatic</td>\n",
       "      <td>Saudi</td>\n",
       "      <td>Full</td>\n",
       "      <td>2020</td>\n",
       "      <td>4.0</td>\n",
       "      <td>49000</td>\n",
       "      <td>True</td>\n",
       "      <td>0</td>\n",
       "    </tr>\n",
       "  </tbody>\n",
       "</table>\n",
       "</div>"
      ],
      "text/plain": [
       "          Type          Region        Make  Gear_Type       Origin    Options  \\\n",
       "0      Corolla            Abha      Toyota     Manual        Saudi   Standard   \n",
       "1        Yukon          Riyadh         GMC  Automatic        Saudi       Full   \n",
       "2  Range Rover          Riyadh  Land Rover  Automatic  Gulf Arabic       Full   \n",
       "3       Optima  Hafar Al-Batin         Kia  Automatic        Saudi  Semi Full   \n",
       "4           FJ          Riyadh      Toyota  Automatic        Saudi       Full   \n",
       "\n",
       "   Year  Engine_Size  Mileage  Negotiable   Price  \n",
       "0  2013          1.4   421000        True       0  \n",
       "1  2014          8.0    80000       False  120000  \n",
       "2  2015          5.0   140000       False  260000  \n",
       "3  2015          2.4   220000       False   42000  \n",
       "4  2020          4.0    49000        True       0  "
      ]
     },
     "execution_count": 4,
     "metadata": {},
     "output_type": "execute_result"
    }
   ],
   "source": [
    "used_car = pd.read_csv('Datasets for Students\\Regression\\data_saudi_used_cars.csv')\n",
    "used_car.head(5)"
   ]
  },
  {
   "cell_type": "markdown",
   "metadata": {},
   "source": [
    "## Part 2: Data Cleaning, Feature Selection, EDA and Feature Engineering"
   ]
  },
  {
   "cell_type": "markdown",
   "metadata": {},
   "source": [
    "### Data Cleaning and Feature Selection"
   ]
  },
  {
   "cell_type": "markdown",
   "metadata": {},
   "source": [
    "Terlebih dahulu kita melihat komposisi data *saudi_used_car* yang telah dimasukkan ke dalam dataframe pandas guna untuk mendapatkan anomali data (missing value, outliers, wrong datatypes, dll)"
   ]
  },
  {
   "cell_type": "code",
   "execution_count": 5,
   "metadata": {},
   "outputs": [
    {
     "name": "stdout",
     "output_type": "stream",
     "text": [
      "<class 'pandas.core.frame.DataFrame'>\n",
      "RangeIndex: 5624 entries, 0 to 5623\n",
      "Data columns (total 11 columns):\n",
      "Type           5624 non-null object\n",
      "Region         5624 non-null object\n",
      "Make           5624 non-null object\n",
      "Gear_Type      5624 non-null object\n",
      "Origin         5624 non-null object\n",
      "Options        5624 non-null object\n",
      "Year           5624 non-null int64\n",
      "Engine_Size    5624 non-null float64\n",
      "Mileage        5624 non-null int64\n",
      "Negotiable     5624 non-null bool\n",
      "Price          5624 non-null int64\n",
      "dtypes: bool(1), float64(1), int64(3), object(6)\n",
      "memory usage: 445.0+ KB\n"
     ]
    }
   ],
   "source": [
    "used_car.info()"
   ]
  },
  {
   "cell_type": "markdown",
   "metadata": {},
   "source": [
    "Berdasarkan informasi diatas diketahui bahwa *used_car* terdapat 11 kolom dan 5624 baris. Dengan komposisi:\n",
    "1. 6 tipe data object\n",
    "2. 3 data integer\n",
    "3. 1 data float, dan \n",
    "4. 1 data boolean.\n",
    "\n",
    "Kemudia kita cek deskriptif data dengan tipe object dan numerik berikut."
   ]
  },
  {
   "cell_type": "code",
   "execution_count": 6,
   "metadata": {},
   "outputs": [
    {
     "data": {
      "text/html": [
       "<div>\n",
       "<style scoped>\n",
       "    .dataframe tbody tr th:only-of-type {\n",
       "        vertical-align: middle;\n",
       "    }\n",
       "\n",
       "    .dataframe tbody tr th {\n",
       "        vertical-align: top;\n",
       "    }\n",
       "\n",
       "    .dataframe thead th {\n",
       "        text-align: right;\n",
       "    }\n",
       "</style>\n",
       "<table border=\"1\" class=\"dataframe\">\n",
       "  <thead>\n",
       "    <tr style=\"text-align: right;\">\n",
       "      <th></th>\n",
       "      <th>dataFeatures</th>\n",
       "      <th>dataType</th>\n",
       "      <th>null</th>\n",
       "      <th>nullPct</th>\n",
       "      <th>unique</th>\n",
       "      <th>uniqueSample</th>\n",
       "    </tr>\n",
       "  </thead>\n",
       "  <tbody>\n",
       "    <tr>\n",
       "      <td>0</td>\n",
       "      <td>Type</td>\n",
       "      <td>object</td>\n",
       "      <td>0</td>\n",
       "      <td>0.0</td>\n",
       "      <td>347</td>\n",
       "      <td>[Milan, Corolla]</td>\n",
       "    </tr>\n",
       "    <tr>\n",
       "      <td>1</td>\n",
       "      <td>Region</td>\n",
       "      <td>object</td>\n",
       "      <td>0</td>\n",
       "      <td>0.0</td>\n",
       "      <td>27</td>\n",
       "      <td>[Besha, Yanbu]</td>\n",
       "    </tr>\n",
       "    <tr>\n",
       "      <td>2</td>\n",
       "      <td>Make</td>\n",
       "      <td>object</td>\n",
       "      <td>0</td>\n",
       "      <td>0.0</td>\n",
       "      <td>58</td>\n",
       "      <td>[Peugeot, GMC]</td>\n",
       "    </tr>\n",
       "    <tr>\n",
       "      <td>3</td>\n",
       "      <td>Gear_Type</td>\n",
       "      <td>object</td>\n",
       "      <td>0</td>\n",
       "      <td>0.0</td>\n",
       "      <td>2</td>\n",
       "      <td>[Automatic, Manual]</td>\n",
       "    </tr>\n",
       "    <tr>\n",
       "      <td>4</td>\n",
       "      <td>Origin</td>\n",
       "      <td>object</td>\n",
       "      <td>0</td>\n",
       "      <td>0.0</td>\n",
       "      <td>4</td>\n",
       "      <td>[Gulf Arabic, Other]</td>\n",
       "    </tr>\n",
       "    <tr>\n",
       "      <td>5</td>\n",
       "      <td>Options</td>\n",
       "      <td>object</td>\n",
       "      <td>0</td>\n",
       "      <td>0.0</td>\n",
       "      <td>3</td>\n",
       "      <td>[Standard, Semi Full]</td>\n",
       "    </tr>\n",
       "    <tr>\n",
       "      <td>6</td>\n",
       "      <td>Year</td>\n",
       "      <td>int64</td>\n",
       "      <td>0</td>\n",
       "      <td>0.0</td>\n",
       "      <td>50</td>\n",
       "      <td>[2002, 2006]</td>\n",
       "    </tr>\n",
       "    <tr>\n",
       "      <td>7</td>\n",
       "      <td>Engine_Size</td>\n",
       "      <td>float64</td>\n",
       "      <td>0</td>\n",
       "      <td>0.0</td>\n",
       "      <td>71</td>\n",
       "      <td>[4.4, 7.2]</td>\n",
       "    </tr>\n",
       "    <tr>\n",
       "      <td>8</td>\n",
       "      <td>Mileage</td>\n",
       "      <td>int64</td>\n",
       "      <td>0</td>\n",
       "      <td>0.0</td>\n",
       "      <td>1716</td>\n",
       "      <td>[110900, 7500]</td>\n",
       "    </tr>\n",
       "    <tr>\n",
       "      <td>9</td>\n",
       "      <td>Negotiable</td>\n",
       "      <td>bool</td>\n",
       "      <td>0</td>\n",
       "      <td>0.0</td>\n",
       "      <td>2</td>\n",
       "      <td>[False, True]</td>\n",
       "    </tr>\n",
       "    <tr>\n",
       "      <td>10</td>\n",
       "      <td>Price</td>\n",
       "      <td>int64</td>\n",
       "      <td>0</td>\n",
       "      <td>0.0</td>\n",
       "      <td>467</td>\n",
       "      <td>[17000, 59000]</td>\n",
       "    </tr>\n",
       "  </tbody>\n",
       "</table>\n",
       "</div>"
      ],
      "text/plain": [
       "   dataFeatures dataType  null  nullPct  unique           uniqueSample\n",
       "0          Type   object     0      0.0     347       [Milan, Corolla]\n",
       "1        Region   object     0      0.0      27         [Besha, Yanbu]\n",
       "2          Make   object     0      0.0      58         [Peugeot, GMC]\n",
       "3     Gear_Type   object     0      0.0       2    [Automatic, Manual]\n",
       "4        Origin   object     0      0.0       4   [Gulf Arabic, Other]\n",
       "5       Options   object     0      0.0       3  [Standard, Semi Full]\n",
       "6          Year    int64     0      0.0      50           [2002, 2006]\n",
       "7   Engine_Size  float64     0      0.0      71             [4.4, 7.2]\n",
       "8       Mileage    int64     0      0.0    1716         [110900, 7500]\n",
       "9    Negotiable     bool     0      0.0       2          [False, True]\n",
       "10        Price    int64     0      0.0     467         [17000, 59000]"
      ]
     },
     "execution_count": 6,
     "metadata": {},
     "output_type": "execute_result"
    }
   ],
   "source": [
    "listItem = []\n",
    "for col in used_car.columns :\n",
    "    listItem.append([col, used_car[col].dtype, used_car[col].isna().sum(), round((used_car[col].isna().sum()/len(used_car[col])) * 100,2),\n",
    "                    used_car[col].nunique(), list(used_car[col].drop_duplicates().sample(2).values)]);\n",
    "\n",
    "dfDesc = pd.DataFrame(columns=['dataFeatures', 'dataType', 'null', 'nullPct', 'unique', 'uniqueSample'],\n",
    "                     data=listItem)\n",
    "dfDesc"
   ]
  },
  {
   "cell_type": "code",
   "execution_count": 7,
   "metadata": {},
   "outputs": [
    {
     "data": {
      "text/html": [
       "<div>\n",
       "<style scoped>\n",
       "    .dataframe tbody tr th:only-of-type {\n",
       "        vertical-align: middle;\n",
       "    }\n",
       "\n",
       "    .dataframe tbody tr th {\n",
       "        vertical-align: top;\n",
       "    }\n",
       "\n",
       "    .dataframe thead th {\n",
       "        text-align: right;\n",
       "    }\n",
       "</style>\n",
       "<table border=\"1\" class=\"dataframe\">\n",
       "  <thead>\n",
       "    <tr style=\"text-align: right;\">\n",
       "      <th></th>\n",
       "      <th>Year</th>\n",
       "      <th>Engine_Size</th>\n",
       "      <th>Mileage</th>\n",
       "      <th>Price</th>\n",
       "    </tr>\n",
       "  </thead>\n",
       "  <tbody>\n",
       "    <tr>\n",
       "      <td>count</td>\n",
       "      <td>5624.000000</td>\n",
       "      <td>5624.000000</td>\n",
       "      <td>5.624000e+03</td>\n",
       "      <td>5624.000000</td>\n",
       "    </tr>\n",
       "    <tr>\n",
       "      <td>mean</td>\n",
       "      <td>2014.101885</td>\n",
       "      <td>3.295430</td>\n",
       "      <td>1.509234e+05</td>\n",
       "      <td>53074.058144</td>\n",
       "    </tr>\n",
       "    <tr>\n",
       "      <td>std</td>\n",
       "      <td>5.791606</td>\n",
       "      <td>1.515108</td>\n",
       "      <td>3.828360e+05</td>\n",
       "      <td>70155.340614</td>\n",
       "    </tr>\n",
       "    <tr>\n",
       "      <td>min</td>\n",
       "      <td>1963.000000</td>\n",
       "      <td>1.000000</td>\n",
       "      <td>1.000000e+02</td>\n",
       "      <td>0.000000</td>\n",
       "    </tr>\n",
       "    <tr>\n",
       "      <td>25%</td>\n",
       "      <td>2012.000000</td>\n",
       "      <td>2.000000</td>\n",
       "      <td>3.800000e+04</td>\n",
       "      <td>0.000000</td>\n",
       "    </tr>\n",
       "    <tr>\n",
       "      <td>50%</td>\n",
       "      <td>2016.000000</td>\n",
       "      <td>3.000000</td>\n",
       "      <td>1.030000e+05</td>\n",
       "      <td>36500.000000</td>\n",
       "    </tr>\n",
       "    <tr>\n",
       "      <td>75%</td>\n",
       "      <td>2018.000000</td>\n",
       "      <td>4.500000</td>\n",
       "      <td>1.960000e+05</td>\n",
       "      <td>72932.500000</td>\n",
       "    </tr>\n",
       "    <tr>\n",
       "      <td>max</td>\n",
       "      <td>2022.000000</td>\n",
       "      <td>9.000000</td>\n",
       "      <td>2.000000e+07</td>\n",
       "      <td>850000.000000</td>\n",
       "    </tr>\n",
       "  </tbody>\n",
       "</table>\n",
       "</div>"
      ],
      "text/plain": [
       "              Year  Engine_Size       Mileage          Price\n",
       "count  5624.000000  5624.000000  5.624000e+03    5624.000000\n",
       "mean   2014.101885     3.295430  1.509234e+05   53074.058144\n",
       "std       5.791606     1.515108  3.828360e+05   70155.340614\n",
       "min    1963.000000     1.000000  1.000000e+02       0.000000\n",
       "25%    2012.000000     2.000000  3.800000e+04       0.000000\n",
       "50%    2016.000000     3.000000  1.030000e+05   36500.000000\n",
       "75%    2018.000000     4.500000  1.960000e+05   72932.500000\n",
       "max    2022.000000     9.000000  2.000000e+07  850000.000000"
      ]
     },
     "execution_count": 7,
     "metadata": {},
     "output_type": "execute_result"
    }
   ],
   "source": [
    "used_car.describe()"
   ]
  },
  {
   "cell_type": "code",
   "execution_count": 8,
   "metadata": {},
   "outputs": [
    {
     "data": {
      "text/plain": [
       "array(['Corolla', 'Yukon', 'Range Rover', 'Optima', 'FJ', 'CX3',\n",
       "       'Cayenne S', 'Sonata', 'Avalon', 'LS', 'C300', 'Land Cruiser',\n",
       "       'Hilux', 'Tucson', 'Caprice', 'Sunny', 'Pajero', 'Azera', 'Focus',\n",
       "       '5', 'Spark', 'Camry', 'Pathfinder', 'Accent', 'ML', 'Tahoe',\n",
       "       'Yaris', 'Suburban', 'A', 'Altima', 'Traverse', 'Expedition',\n",
       "       'Senta fe', 'Liberty', '3', 'X', 'Elantra', 'Land Cruiser Pickup',\n",
       "       'VTC', 'Malibu', 'The 5', 'A8', 'Patrol', 'Grand Cherokee', 'SL',\n",
       "       'Previa', 'SEL', 'Aveo', 'MKZ', 'Victoria', 'Datsun', 'Flex',\n",
       "       'GLC', 'ES', 'Edge', '6', 'Escalade', 'Innova', 'Navara', 'H1',\n",
       "       'G80', 'Carnival', 'Symbol', 'Camaro', 'Accord', 'Avanza',\n",
       "       'Land Cruiser 70', 'Taurus', 'C5700', 'Impala', 'Optra', 'S',\n",
       "       'Other', 'Cerato', 'Furniture', 'Murano', 'Explorer', 'LX',\n",
       "       'Pick up', 'Charger', 'H6', 'BT-50', 'Hiace', 'Ranger', 'Fusion',\n",
       "       'Rav4', 'Ciocca', 'CX9', 'Kona', 'Sentra', 'Sierra', 'Durango',\n",
       "       'CT-S', 'Sylvian Bus', 'Navigator', 'Opirus', 'Marquis', 'The 7',\n",
       "       'FX', 'Creta', 'D-MAX', 'CS35', 'The 3', 'Dyna', 'GLE', 'Sedona',\n",
       "       'Prestige', 'CLA', 'Lumina', 'Vanquish', 'Sorento', 'Safrane',\n",
       "       'Cores', 'Cruze', 'Prado', 'Cadenza', \"D'max\", 'Silverado', 'Rio',\n",
       "       'Maxima', 'X-Trail', 'RX', 'Cressida', 'C', 'Seven', 'Cherokee',\n",
       "       'Grand Marquis', 'H2', 'QX', 'Blazer', 'Wingle', 'Panamera',\n",
       "       'Rush', 'The M', 'Genesis', 'E', 'K5', 'CS95', 'Cayenne Turbo S',\n",
       "       'Civic', 'Echo Sport', 'Challenger', 'CL', 'Wrangler', 'A6',\n",
       "       'Dokker', 'CX5', 'Mohave', 'Ghost', 'Copper', 'Veloster', 'G',\n",
       "       'Jetta', 'IS', 'Thunderbird', 'Fluence', 'V7', 'Vego', 'Aurion',\n",
       "       'Q', 'F3', 'UX', 'Beetle', 'F150', 'Acadia', 'EC7', 'Lancer',\n",
       "       'Capture', 'Van R', 'Mustang', 'CS35 Plus', 'DB9', 'APV',\n",
       "       'Kaptiva', 'Viano', 'Safari', 'Cadillac', 'CLS', 'Duster',\n",
       "       'Platinum', 'Carenz', 'Emgrand', 'Z', 'Coupe S', 'Odyssey',\n",
       "       'Terrain', 'Juke', 'Sportage', 'C200', 'Attrage', 'GS', 'X-Terra',\n",
       "       'Azkarra', 'XF', 'Picanto', 'Armada', 'CT5', 'KICKS', 'Gran Max',\n",
       "       'Cayman', 'Levante', 'Montero', '300', 'POS24', 'A3', 'Touareg',\n",
       "       'Passat', 'Delta', 'H3', 'RX5', 'GS3', 'Coupe', 'New Yorker',\n",
       "       'Cayenne Turbo', 'Colorado', 'Trailblazer', 'Vitara', 'Nativa',\n",
       "       'Van', 'LF X60', 'Koleos', 'Defender', 'Abeka', 'H100',\n",
       "       'Flying Spur', 'Pilot', 'L200', 'A7', 'Quattroporte', 'Bora',\n",
       "       'Compass', 'Bus Urvan', 'Macan', 'Corolla Cross', 'GL', 'City',\n",
       "       'DTS', 'Ertiga', 'Envoy', 'CT6', 'Fleetwood', 'Tiggo', 'GX', 'Q5',\n",
       "       'A4', 'XJ', 'Echo', 'HS', 'Avalanche', 'MKX', 'Seltos', 'SRX',\n",
       "       'RX8', 'SLK', '301', 'EC8', '3008', 'Suvana', 'Prius', 'Cayenne',\n",
       "       'Eado', 'The 6', 'Royal', 'NX', 'Soul', 'CS75', 'H9', 'F-Pace',\n",
       "       'Coolray', 'Maybach', 'CS85', 'Jimny', 'GC7', '360', 'A5', 'S300',\n",
       "       'Superb', 'Ram', 'The 4', 'Grand Vitara', '500', 'Logan', '5008',\n",
       "       'Tiguan', 'Golf', 'S5', '911', 'Boxer', 'Camargue', 'M', 'Daily',\n",
       "       'Nitro', 'CRV', 'Mini Van', 'Pegas', 'L300', 'Coaster',\n",
       "       'Discovery', 'Montero2', 'Bentayga', 'Z370', 'Bus County',\n",
       "       'Stinger', 'SRT', 'CT4', 'F Type', 'CC', 'Koranado', 'ASX',\n",
       "       'Carens', 'Crown', 'ِACTIS V80', 'XT5', 'Tuscani', '4Runner',\n",
       "       'ATS', 'HRV', 'X7', 'Outlander', 'X40', 'Q7', 'ZS', 'G70',\n",
       "       'Megane', 'Nexon', 'Power', 'B50', 'Town Car', '2', 'i40', 'RC',\n",
       "       'Doblo', 'Bronco', 'Dzire', 'Avante', 'Z350', 'CX7', 'Countryman',\n",
       "       'GTB 599 Fiorano', 'Prestige Plus', 'Terios', 'MKS', 'Milan',\n",
       "       'Centennial', 'Dakota', 'Savana', 'S8'], dtype=object)"
      ]
     },
     "execution_count": 8,
     "metadata": {},
     "output_type": "execute_result"
    }
   ],
   "source": [
    "used_car['Type'].unique()"
   ]
  },
  {
   "cell_type": "code",
   "execution_count": 9,
   "metadata": {},
   "outputs": [
    {
     "data": {
      "text/plain": [
       "array(['Abha', 'Riyadh', 'Hafar Al-Batin', 'Aseer', 'Makkah', 'Dammam',\n",
       "       'Yanbu', 'Al-Baha', 'Jeddah', 'Hail', 'Khobar', 'Al-Ahsa', 'Jazan',\n",
       "       'Al-Medina', 'Al-Namas', 'Tabouk', 'Taef', 'Qassim', 'Arar',\n",
       "       'Jubail', 'Sabya', 'Al-Jouf', 'Najran', 'Wadi Dawasir', 'Qurayyat',\n",
       "       'Sakaka', 'Besha'], dtype=object)"
      ]
     },
     "execution_count": 9,
     "metadata": {},
     "output_type": "execute_result"
    }
   ],
   "source": [
    "used_car['Region'].unique()"
   ]
  },
  {
   "cell_type": "code",
   "execution_count": 10,
   "metadata": {},
   "outputs": [
    {
     "data": {
      "text/plain": [
       "array(['Toyota', 'GMC', 'Land Rover', 'Kia', 'Mazda', 'Porsche',\n",
       "       'Hyundai', 'Lexus', 'Chrysler', 'Chevrolet', 'Nissan',\n",
       "       'Mitsubishi', 'Ford', 'MG', 'Mercedes', 'Jeep', 'BMW', 'Audi',\n",
       "       'Lincoln', 'Cadillac', 'Genesis', 'Renault', 'Honda', 'Suzuki',\n",
       "       'Zhengzhou', 'Dodge', 'HAVAL', 'INFINITI', 'Isuzu', 'Changan',\n",
       "       'Aston Martin', 'Mercury', 'Great Wall', 'Other', 'Rolls-Royce',\n",
       "       'MINI', 'Volkswagen', 'BYD', 'Geely', 'Victory Auto', 'Classic',\n",
       "       'Jaguar', 'Daihatsu', 'Maserati', 'Hummer', 'GAC', 'Lifan',\n",
       "       'Bentley', 'Chery', 'Peugeot', 'Foton', 'Škoda', 'Fiat', 'Iveco',\n",
       "       'SsangYong', 'FAW', 'Tata', 'Ferrari'], dtype=object)"
      ]
     },
     "execution_count": 10,
     "metadata": {},
     "output_type": "execute_result"
    }
   ],
   "source": [
    "used_car['Make'].unique()"
   ]
  },
  {
   "cell_type": "code",
   "execution_count": 11,
   "metadata": {},
   "outputs": [
    {
     "data": {
      "text/plain": [
       "array(['Manual', 'Automatic'], dtype=object)"
      ]
     },
     "execution_count": 11,
     "metadata": {},
     "output_type": "execute_result"
    }
   ],
   "source": [
    "used_car['Gear_Type'].unique()"
   ]
  },
  {
   "cell_type": "code",
   "execution_count": 12,
   "metadata": {},
   "outputs": [
    {
     "data": {
      "text/plain": [
       "array(['Saudi', 'Gulf Arabic', 'Other', 'Unknown'], dtype=object)"
      ]
     },
     "execution_count": 12,
     "metadata": {},
     "output_type": "execute_result"
    }
   ],
   "source": [
    "used_car['Origin'].unique()"
   ]
  },
  {
   "cell_type": "code",
   "execution_count": 13,
   "metadata": {},
   "outputs": [
    {
     "data": {
      "text/plain": [
       "array(['Standard', 'Full', 'Semi Full'], dtype=object)"
      ]
     },
     "execution_count": 13,
     "metadata": {},
     "output_type": "execute_result"
    }
   ],
   "source": [
    "used_car['Options'].unique()"
   ]
  },
  {
   "cell_type": "code",
   "execution_count": 14,
   "metadata": {},
   "outputs": [
    {
     "data": {
      "text/plain": [
       "array([2013, 2014, 2015, 2020, 2019, 2012, 2016, 1998, 2011, 2008, 1982,\n",
       "       1985, 2018, 1983, 2021, 2017, 2002, 2010, 2009, 2004, 2001, 1986,\n",
       "       2007, 1999, 2005, 1977, 1991, 2003, 1995, 2006, 1997, 1993, 1996,\n",
       "       2000, 1990, 1965, 1980, 1987, 1994, 1988, 1989, 1978, 2022, 1975,\n",
       "       1964, 1984, 1979, 1992, 1963, 1981], dtype=int64)"
      ]
     },
     "execution_count": 14,
     "metadata": {},
     "output_type": "execute_result"
    }
   ],
   "source": [
    "used_car['Year'].unique()"
   ]
  },
  {
   "cell_type": "code",
   "execution_count": 15,
   "metadata": {},
   "outputs": [
    {
     "data": {
      "text/plain": [
       "array([1.4, 8. , 5. , 2.4, 4. , 2. , 4.8, 3.5, 4.6, 5.7, 2.7, 1. , 3. ,\n",
       "       1.6, 1.5, 3.3, 6.2, 2.5, 5.3, 3.6, 5.4, 1.7, 3.7, 9. , 4.7, 4.5,\n",
       "       3.8, 5.5, 2.6, 1.8, 1.2, 6. , 6.9, 3.2, 5.9, 2.2, 5.6, 1.1, 2.9,\n",
       "       4.1, 1.3, 4.4, 2.8, 3.4, 8.8, 6.1, 7. , 1.9, 7.5, 4.3, 6.5, 3.1,\n",
       "       6.3, 6.4, 5.8, 8.5, 2.3, 6.6, 7.2, 4.2, 5.1, 7.4, 5.2, 2.1, 6.7,\n",
       "       7.8, 3.9, 8.7, 4.9, 6.8, 8.9])"
      ]
     },
     "execution_count": 15,
     "metadata": {},
     "output_type": "execute_result"
    }
   ],
   "source": [
    "used_car['Engine_Size'].unique()"
   ]
  },
  {
   "cell_type": "markdown",
   "metadata": {},
   "source": [
    "Dari komposisi data diatas, terdapat 4 hal yang menjadi perhatian:\n",
    "1. Dari tabel diatas dapat dilihat bahwa pada kolom *Origin* terdapat nilai **Unknown**, nilai ini akan dimasukkan ke dalam nilai **Other** yang berarti bahwa tidak diketahui negara yang menjadi importirnya.\n",
    "2. Pada kolom *Type* dan *Make* terdapat data unique dengan nama *Other*, kemudian akan kita cek data Other ini apakah berpengaruh terhadap besarnya nilai *Price*.\n",
    "2. Nilai maksimal *mileage* yaitu 20.000.000, nilai ini terlalu besar dan tidak mungkin terjadi, ini menunjukan adanya outlier pada kolom *mileage*. Kita akan menggunakan metode IQR untuk menghapus nilai outlier pada data *Mileage*.\n",
    "3. Nilai price dimana q1 adalah 0, nilai 0 dari price di hasilkan oleh penjualan mobil yang negotiable.\n",
    "\n",
    "Beberapa hal tersebut dapat menjadi masalah saat akan membuat model untuk memprediksi harga mobil oleh karena itu terlebih dahulu diperbaiki."
   ]
  },
  {
   "cell_type": "markdown",
   "metadata": {},
   "source": [
    "#### 1. Mengubah nilai 'Unknown' menjadi 'Other' pada kolom *Origin*"
   ]
  },
  {
   "cell_type": "code",
   "execution_count": 16,
   "metadata": {},
   "outputs": [
    {
     "data": {
      "text/plain": [
       "Saudi          4188\n",
       "Gulf Arabic     697\n",
       "Other           678\n",
       "Unknown          61\n",
       "Name: Origin, dtype: int64"
      ]
     },
     "execution_count": 16,
     "metadata": {},
     "output_type": "execute_result"
    }
   ],
   "source": [
    "# Cek jumlah unique value dari kolom 'Origin' sebelum diubah\n",
    "used_car['Origin'].value_counts()"
   ]
  },
  {
   "cell_type": "code",
   "execution_count": 17,
   "metadata": {},
   "outputs": [],
   "source": [
    "used_car['Origin'] = used_car['Origin'].replace(['Unknown'],'Other')"
   ]
  },
  {
   "cell_type": "code",
   "execution_count": 18,
   "metadata": {},
   "outputs": [
    {
     "data": {
      "text/plain": [
       "Saudi          4188\n",
       "Other           739\n",
       "Gulf Arabic     697\n",
       "Name: Origin, dtype: int64"
      ]
     },
     "execution_count": 18,
     "metadata": {},
     "output_type": "execute_result"
    }
   ],
   "source": [
    "# Cek jumlah unique value dari kolom 'Origin' setelah diubah\n",
    "used_car['Origin'].value_counts()"
   ]
  },
  {
   "cell_type": "markdown",
   "metadata": {},
   "source": [
    "Dapat dilihat unique value untuk kolom *Origin* yang sebelumnya 4 menjadi 3 yaitu: Saudi, Other dan Gulf Arabic."
   ]
  },
  {
   "cell_type": "markdown",
   "metadata": {},
   "source": [
    "#### 2. Mengatasi Nilai 'Other' pada kolom *Type* dan *Make*"
   ]
  },
  {
   "cell_type": "markdown",
   "metadata": {},
   "source": [
    "Kita akan cek terlebih dahulu data-data yang memiliki nilai 'Other' pada kolom *Make* dan *Type*."
   ]
  },
  {
   "cell_type": "code",
   "execution_count": 19,
   "metadata": {},
   "outputs": [
    {
     "data": {
      "text/html": [
       "<div>\n",
       "<style scoped>\n",
       "    .dataframe tbody tr th:only-of-type {\n",
       "        vertical-align: middle;\n",
       "    }\n",
       "\n",
       "    .dataframe tbody tr th {\n",
       "        vertical-align: top;\n",
       "    }\n",
       "\n",
       "    .dataframe thead th {\n",
       "        text-align: right;\n",
       "    }\n",
       "</style>\n",
       "<table border=\"1\" class=\"dataframe\">\n",
       "  <thead>\n",
       "    <tr style=\"text-align: right;\">\n",
       "      <th></th>\n",
       "      <th>Type</th>\n",
       "      <th>Region</th>\n",
       "      <th>Make</th>\n",
       "      <th>Gear_Type</th>\n",
       "      <th>Origin</th>\n",
       "      <th>Options</th>\n",
       "      <th>Year</th>\n",
       "      <th>Engine_Size</th>\n",
       "      <th>Mileage</th>\n",
       "      <th>Negotiable</th>\n",
       "      <th>Price</th>\n",
       "    </tr>\n",
       "  </thead>\n",
       "  <tbody>\n",
       "    <tr>\n",
       "      <td>115</td>\n",
       "      <td>Other</td>\n",
       "      <td>Jubail</td>\n",
       "      <td>Suzuki</td>\n",
       "      <td>Automatic</td>\n",
       "      <td>Saudi</td>\n",
       "      <td>Standard</td>\n",
       "      <td>2017</td>\n",
       "      <td>1.6</td>\n",
       "      <td>100</td>\n",
       "      <td>True</td>\n",
       "      <td>0</td>\n",
       "    </tr>\n",
       "    <tr>\n",
       "      <td>451</td>\n",
       "      <td>Other</td>\n",
       "      <td>Taef</td>\n",
       "      <td>Other</td>\n",
       "      <td>Automatic</td>\n",
       "      <td>Saudi</td>\n",
       "      <td>Full</td>\n",
       "      <td>2004</td>\n",
       "      <td>2.4</td>\n",
       "      <td>6000</td>\n",
       "      <td>True</td>\n",
       "      <td>0</td>\n",
       "    </tr>\n",
       "    <tr>\n",
       "      <td>663</td>\n",
       "      <td>Other</td>\n",
       "      <td>Qassim</td>\n",
       "      <td>Other</td>\n",
       "      <td>Manual</td>\n",
       "      <td>Other</td>\n",
       "      <td>Standard</td>\n",
       "      <td>1980</td>\n",
       "      <td>2.4</td>\n",
       "      <td>2500</td>\n",
       "      <td>False</td>\n",
       "      <td>220000</td>\n",
       "    </tr>\n",
       "    <tr>\n",
       "      <td>881</td>\n",
       "      <td>Other</td>\n",
       "      <td>Al-Baha</td>\n",
       "      <td>Other</td>\n",
       "      <td>Manual</td>\n",
       "      <td>Other</td>\n",
       "      <td>Standard</td>\n",
       "      <td>2020</td>\n",
       "      <td>1.1</td>\n",
       "      <td>2848</td>\n",
       "      <td>False</td>\n",
       "      <td>2000</td>\n",
       "    </tr>\n",
       "    <tr>\n",
       "      <td>969</td>\n",
       "      <td>Other</td>\n",
       "      <td>Riyadh</td>\n",
       "      <td>Other</td>\n",
       "      <td>Manual</td>\n",
       "      <td>Saudi</td>\n",
       "      <td>Standard</td>\n",
       "      <td>2006</td>\n",
       "      <td>6.5</td>\n",
       "      <td>81250</td>\n",
       "      <td>True</td>\n",
       "      <td>0</td>\n",
       "    </tr>\n",
       "    <tr>\n",
       "      <td>1186</td>\n",
       "      <td>Other</td>\n",
       "      <td>Dammam</td>\n",
       "      <td>Hyundai</td>\n",
       "      <td>Automatic</td>\n",
       "      <td>Other</td>\n",
       "      <td>Full</td>\n",
       "      <td>2011</td>\n",
       "      <td>4.6</td>\n",
       "      <td>270</td>\n",
       "      <td>False</td>\n",
       "      <td>30000</td>\n",
       "    </tr>\n",
       "    <tr>\n",
       "      <td>1199</td>\n",
       "      <td>Other</td>\n",
       "      <td>Qassim</td>\n",
       "      <td>Other</td>\n",
       "      <td>Manual</td>\n",
       "      <td>Other</td>\n",
       "      <td>Full</td>\n",
       "      <td>2019</td>\n",
       "      <td>8.0</td>\n",
       "      <td>24643</td>\n",
       "      <td>False</td>\n",
       "      <td>330000</td>\n",
       "    </tr>\n",
       "    <tr>\n",
       "      <td>1253</td>\n",
       "      <td>Other</td>\n",
       "      <td>Al-Medina</td>\n",
       "      <td>Other</td>\n",
       "      <td>Manual</td>\n",
       "      <td>Other</td>\n",
       "      <td>Standard</td>\n",
       "      <td>2009</td>\n",
       "      <td>2.4</td>\n",
       "      <td>1300</td>\n",
       "      <td>False</td>\n",
       "      <td>26000</td>\n",
       "    </tr>\n",
       "    <tr>\n",
       "      <td>1485</td>\n",
       "      <td>Other</td>\n",
       "      <td>Al-Ahsa</td>\n",
       "      <td>Suzuki</td>\n",
       "      <td>Manual</td>\n",
       "      <td>Other</td>\n",
       "      <td>Full</td>\n",
       "      <td>2014</td>\n",
       "      <td>1.0</td>\n",
       "      <td>25000</td>\n",
       "      <td>True</td>\n",
       "      <td>0</td>\n",
       "    </tr>\n",
       "    <tr>\n",
       "      <td>1629</td>\n",
       "      <td>Other</td>\n",
       "      <td>Jeddah</td>\n",
       "      <td>Other</td>\n",
       "      <td>Manual</td>\n",
       "      <td>Other</td>\n",
       "      <td>Semi Full</td>\n",
       "      <td>2021</td>\n",
       "      <td>1.2</td>\n",
       "      <td>3000</td>\n",
       "      <td>False</td>\n",
       "      <td>5500</td>\n",
       "    </tr>\n",
       "    <tr>\n",
       "      <td>1717</td>\n",
       "      <td>Other</td>\n",
       "      <td>Jeddah</td>\n",
       "      <td>Honda</td>\n",
       "      <td>Manual</td>\n",
       "      <td>Saudi</td>\n",
       "      <td>Standard</td>\n",
       "      <td>2011</td>\n",
       "      <td>1.0</td>\n",
       "      <td>4200</td>\n",
       "      <td>False</td>\n",
       "      <td>6500</td>\n",
       "    </tr>\n",
       "    <tr>\n",
       "      <td>1752</td>\n",
       "      <td>Other</td>\n",
       "      <td>Khobar</td>\n",
       "      <td>Other</td>\n",
       "      <td>Manual</td>\n",
       "      <td>Other</td>\n",
       "      <td>Semi Full</td>\n",
       "      <td>2019</td>\n",
       "      <td>2.4</td>\n",
       "      <td>1000</td>\n",
       "      <td>True</td>\n",
       "      <td>0</td>\n",
       "    </tr>\n",
       "    <tr>\n",
       "      <td>1974</td>\n",
       "      <td>Other</td>\n",
       "      <td>Jeddah</td>\n",
       "      <td>Ford</td>\n",
       "      <td>Automatic</td>\n",
       "      <td>Saudi</td>\n",
       "      <td>Semi Full</td>\n",
       "      <td>2008</td>\n",
       "      <td>1.0</td>\n",
       "      <td>1910000</td>\n",
       "      <td>True</td>\n",
       "      <td>0</td>\n",
       "    </tr>\n",
       "    <tr>\n",
       "      <td>1979</td>\n",
       "      <td>Other</td>\n",
       "      <td>Al-Medina</td>\n",
       "      <td>Mitsubishi</td>\n",
       "      <td>Manual</td>\n",
       "      <td>Saudi</td>\n",
       "      <td>Standard</td>\n",
       "      <td>2006</td>\n",
       "      <td>2.5</td>\n",
       "      <td>140000</td>\n",
       "      <td>False</td>\n",
       "      <td>45000</td>\n",
       "    </tr>\n",
       "    <tr>\n",
       "      <td>2595</td>\n",
       "      <td>Other</td>\n",
       "      <td>Jazan</td>\n",
       "      <td>Other</td>\n",
       "      <td>Manual</td>\n",
       "      <td>Other</td>\n",
       "      <td>Standard</td>\n",
       "      <td>2011</td>\n",
       "      <td>2.4</td>\n",
       "      <td>100000</td>\n",
       "      <td>True</td>\n",
       "      <td>0</td>\n",
       "    </tr>\n",
       "    <tr>\n",
       "      <td>3542</td>\n",
       "      <td>Other</td>\n",
       "      <td>Riyadh</td>\n",
       "      <td>Geely</td>\n",
       "      <td>Automatic</td>\n",
       "      <td>Saudi</td>\n",
       "      <td>Full</td>\n",
       "      <td>2017</td>\n",
       "      <td>1.4</td>\n",
       "      <td>45000</td>\n",
       "      <td>False</td>\n",
       "      <td>36000</td>\n",
       "    </tr>\n",
       "    <tr>\n",
       "      <td>3608</td>\n",
       "      <td>Other</td>\n",
       "      <td>Khobar</td>\n",
       "      <td>Porsche</td>\n",
       "      <td>Automatic</td>\n",
       "      <td>Saudi</td>\n",
       "      <td>Full</td>\n",
       "      <td>2020</td>\n",
       "      <td>5.0</td>\n",
       "      <td>18000</td>\n",
       "      <td>False</td>\n",
       "      <td>375000</td>\n",
       "    </tr>\n",
       "    <tr>\n",
       "      <td>3789</td>\n",
       "      <td>Other</td>\n",
       "      <td>Riyadh</td>\n",
       "      <td>Other</td>\n",
       "      <td>Automatic</td>\n",
       "      <td>Saudi</td>\n",
       "      <td>Full</td>\n",
       "      <td>2009</td>\n",
       "      <td>2.4</td>\n",
       "      <td>218000</td>\n",
       "      <td>True</td>\n",
       "      <td>0</td>\n",
       "    </tr>\n",
       "    <tr>\n",
       "      <td>3861</td>\n",
       "      <td>Other</td>\n",
       "      <td>Riyadh</td>\n",
       "      <td>Honda</td>\n",
       "      <td>Manual</td>\n",
       "      <td>Saudi</td>\n",
       "      <td>Semi Full</td>\n",
       "      <td>2005</td>\n",
       "      <td>4.0</td>\n",
       "      <td>100</td>\n",
       "      <td>False</td>\n",
       "      <td>20000</td>\n",
       "    </tr>\n",
       "    <tr>\n",
       "      <td>4020</td>\n",
       "      <td>Other</td>\n",
       "      <td>Taef</td>\n",
       "      <td>Ford</td>\n",
       "      <td>Manual</td>\n",
       "      <td>Saudi</td>\n",
       "      <td>Standard</td>\n",
       "      <td>2015</td>\n",
       "      <td>1.0</td>\n",
       "      <td>19047</td>\n",
       "      <td>True</td>\n",
       "      <td>0</td>\n",
       "    </tr>\n",
       "    <tr>\n",
       "      <td>4479</td>\n",
       "      <td>Other</td>\n",
       "      <td>Riyadh</td>\n",
       "      <td>Ford</td>\n",
       "      <td>Automatic</td>\n",
       "      <td>Gulf Arabic</td>\n",
       "      <td>Semi Full</td>\n",
       "      <td>2013</td>\n",
       "      <td>3.0</td>\n",
       "      <td>318000</td>\n",
       "      <td>False</td>\n",
       "      <td>40000</td>\n",
       "    </tr>\n",
       "    <tr>\n",
       "      <td>4504</td>\n",
       "      <td>Other</td>\n",
       "      <td>Aseer</td>\n",
       "      <td>Honda</td>\n",
       "      <td>Manual</td>\n",
       "      <td>Other</td>\n",
       "      <td>Full</td>\n",
       "      <td>1985</td>\n",
       "      <td>1.0</td>\n",
       "      <td>20000</td>\n",
       "      <td>True</td>\n",
       "      <td>0</td>\n",
       "    </tr>\n",
       "    <tr>\n",
       "      <td>4877</td>\n",
       "      <td>Other</td>\n",
       "      <td>Dammam</td>\n",
       "      <td>Suzuki</td>\n",
       "      <td>Manual</td>\n",
       "      <td>Saudi</td>\n",
       "      <td>Standard</td>\n",
       "      <td>2007</td>\n",
       "      <td>1.0</td>\n",
       "      <td>89000</td>\n",
       "      <td>True</td>\n",
       "      <td>0</td>\n",
       "    </tr>\n",
       "    <tr>\n",
       "      <td>5012</td>\n",
       "      <td>Other</td>\n",
       "      <td>Riyadh</td>\n",
       "      <td>Ford</td>\n",
       "      <td>Manual</td>\n",
       "      <td>Saudi</td>\n",
       "      <td>Standard</td>\n",
       "      <td>1963</td>\n",
       "      <td>1.0</td>\n",
       "      <td>300</td>\n",
       "      <td>False</td>\n",
       "      <td>22000</td>\n",
       "    </tr>\n",
       "    <tr>\n",
       "      <td>5583</td>\n",
       "      <td>Other</td>\n",
       "      <td>Aseer</td>\n",
       "      <td>Isuzu</td>\n",
       "      <td>Manual</td>\n",
       "      <td>Other</td>\n",
       "      <td>Full</td>\n",
       "      <td>2015</td>\n",
       "      <td>2.5</td>\n",
       "      <td>100</td>\n",
       "      <td>True</td>\n",
       "      <td>0</td>\n",
       "    </tr>\n",
       "  </tbody>\n",
       "</table>\n",
       "</div>"
      ],
      "text/plain": [
       "       Type     Region        Make  Gear_Type       Origin    Options  Year  \\\n",
       "115   Other     Jubail      Suzuki  Automatic        Saudi   Standard  2017   \n",
       "451   Other       Taef       Other  Automatic        Saudi       Full  2004   \n",
       "663   Other     Qassim       Other     Manual        Other   Standard  1980   \n",
       "881   Other    Al-Baha       Other     Manual        Other   Standard  2020   \n",
       "969   Other     Riyadh       Other     Manual        Saudi   Standard  2006   \n",
       "1186  Other     Dammam     Hyundai  Automatic        Other       Full  2011   \n",
       "1199  Other     Qassim       Other     Manual        Other       Full  2019   \n",
       "1253  Other  Al-Medina       Other     Manual        Other   Standard  2009   \n",
       "1485  Other    Al-Ahsa      Suzuki     Manual        Other       Full  2014   \n",
       "1629  Other     Jeddah       Other     Manual        Other  Semi Full  2021   \n",
       "1717  Other     Jeddah       Honda     Manual        Saudi   Standard  2011   \n",
       "1752  Other     Khobar       Other     Manual        Other  Semi Full  2019   \n",
       "1974  Other     Jeddah        Ford  Automatic        Saudi  Semi Full  2008   \n",
       "1979  Other  Al-Medina  Mitsubishi     Manual        Saudi   Standard  2006   \n",
       "2595  Other      Jazan       Other     Manual        Other   Standard  2011   \n",
       "3542  Other     Riyadh       Geely  Automatic        Saudi       Full  2017   \n",
       "3608  Other     Khobar     Porsche  Automatic        Saudi       Full  2020   \n",
       "3789  Other     Riyadh       Other  Automatic        Saudi       Full  2009   \n",
       "3861  Other     Riyadh       Honda     Manual        Saudi  Semi Full  2005   \n",
       "4020  Other       Taef        Ford     Manual        Saudi   Standard  2015   \n",
       "4479  Other     Riyadh        Ford  Automatic  Gulf Arabic  Semi Full  2013   \n",
       "4504  Other      Aseer       Honda     Manual        Other       Full  1985   \n",
       "4877  Other     Dammam      Suzuki     Manual        Saudi   Standard  2007   \n",
       "5012  Other     Riyadh        Ford     Manual        Saudi   Standard  1963   \n",
       "5583  Other      Aseer       Isuzu     Manual        Other       Full  2015   \n",
       "\n",
       "      Engine_Size  Mileage  Negotiable   Price  \n",
       "115           1.6      100        True       0  \n",
       "451           2.4     6000        True       0  \n",
       "663           2.4     2500       False  220000  \n",
       "881           1.1     2848       False    2000  \n",
       "969           6.5    81250        True       0  \n",
       "1186          4.6      270       False   30000  \n",
       "1199          8.0    24643       False  330000  \n",
       "1253          2.4     1300       False   26000  \n",
       "1485          1.0    25000        True       0  \n",
       "1629          1.2     3000       False    5500  \n",
       "1717          1.0     4200       False    6500  \n",
       "1752          2.4     1000        True       0  \n",
       "1974          1.0  1910000        True       0  \n",
       "1979          2.5   140000       False   45000  \n",
       "2595          2.4   100000        True       0  \n",
       "3542          1.4    45000       False   36000  \n",
       "3608          5.0    18000       False  375000  \n",
       "3789          2.4   218000        True       0  \n",
       "3861          4.0      100       False   20000  \n",
       "4020          1.0    19047        True       0  \n",
       "4479          3.0   318000       False   40000  \n",
       "4504          1.0    20000        True       0  \n",
       "4877          1.0    89000        True       0  \n",
       "5012          1.0      300       False   22000  \n",
       "5583          2.5      100        True       0  "
      ]
     },
     "execution_count": 19,
     "metadata": {},
     "output_type": "execute_result"
    }
   ],
   "source": [
    "used_car[used_car['Type']=='Other']"
   ]
  },
  {
   "cell_type": "code",
   "execution_count": 20,
   "metadata": {},
   "outputs": [
    {
     "data": {
      "text/html": [
       "<div>\n",
       "<style scoped>\n",
       "    .dataframe tbody tr th:only-of-type {\n",
       "        vertical-align: middle;\n",
       "    }\n",
       "\n",
       "    .dataframe tbody tr th {\n",
       "        vertical-align: top;\n",
       "    }\n",
       "\n",
       "    .dataframe thead th {\n",
       "        text-align: right;\n",
       "    }\n",
       "</style>\n",
       "<table border=\"1\" class=\"dataframe\">\n",
       "  <thead>\n",
       "    <tr style=\"text-align: right;\">\n",
       "      <th></th>\n",
       "      <th>Type</th>\n",
       "      <th>Region</th>\n",
       "      <th>Make</th>\n",
       "      <th>Gear_Type</th>\n",
       "      <th>Origin</th>\n",
       "      <th>Options</th>\n",
       "      <th>Year</th>\n",
       "      <th>Engine_Size</th>\n",
       "      <th>Mileage</th>\n",
       "      <th>Negotiable</th>\n",
       "      <th>Price</th>\n",
       "    </tr>\n",
       "  </thead>\n",
       "  <tbody>\n",
       "    <tr>\n",
       "      <td>451</td>\n",
       "      <td>Other</td>\n",
       "      <td>Taef</td>\n",
       "      <td>Other</td>\n",
       "      <td>Automatic</td>\n",
       "      <td>Saudi</td>\n",
       "      <td>Full</td>\n",
       "      <td>2004</td>\n",
       "      <td>2.4</td>\n",
       "      <td>6000</td>\n",
       "      <td>True</td>\n",
       "      <td>0</td>\n",
       "    </tr>\n",
       "    <tr>\n",
       "      <td>663</td>\n",
       "      <td>Other</td>\n",
       "      <td>Qassim</td>\n",
       "      <td>Other</td>\n",
       "      <td>Manual</td>\n",
       "      <td>Other</td>\n",
       "      <td>Standard</td>\n",
       "      <td>1980</td>\n",
       "      <td>2.4</td>\n",
       "      <td>2500</td>\n",
       "      <td>False</td>\n",
       "      <td>220000</td>\n",
       "    </tr>\n",
       "    <tr>\n",
       "      <td>881</td>\n",
       "      <td>Other</td>\n",
       "      <td>Al-Baha</td>\n",
       "      <td>Other</td>\n",
       "      <td>Manual</td>\n",
       "      <td>Other</td>\n",
       "      <td>Standard</td>\n",
       "      <td>2020</td>\n",
       "      <td>1.1</td>\n",
       "      <td>2848</td>\n",
       "      <td>False</td>\n",
       "      <td>2000</td>\n",
       "    </tr>\n",
       "    <tr>\n",
       "      <td>969</td>\n",
       "      <td>Other</td>\n",
       "      <td>Riyadh</td>\n",
       "      <td>Other</td>\n",
       "      <td>Manual</td>\n",
       "      <td>Saudi</td>\n",
       "      <td>Standard</td>\n",
       "      <td>2006</td>\n",
       "      <td>6.5</td>\n",
       "      <td>81250</td>\n",
       "      <td>True</td>\n",
       "      <td>0</td>\n",
       "    </tr>\n",
       "    <tr>\n",
       "      <td>1199</td>\n",
       "      <td>Other</td>\n",
       "      <td>Qassim</td>\n",
       "      <td>Other</td>\n",
       "      <td>Manual</td>\n",
       "      <td>Other</td>\n",
       "      <td>Full</td>\n",
       "      <td>2019</td>\n",
       "      <td>8.0</td>\n",
       "      <td>24643</td>\n",
       "      <td>False</td>\n",
       "      <td>330000</td>\n",
       "    </tr>\n",
       "    <tr>\n",
       "      <td>1253</td>\n",
       "      <td>Other</td>\n",
       "      <td>Al-Medina</td>\n",
       "      <td>Other</td>\n",
       "      <td>Manual</td>\n",
       "      <td>Other</td>\n",
       "      <td>Standard</td>\n",
       "      <td>2009</td>\n",
       "      <td>2.4</td>\n",
       "      <td>1300</td>\n",
       "      <td>False</td>\n",
       "      <td>26000</td>\n",
       "    </tr>\n",
       "    <tr>\n",
       "      <td>1629</td>\n",
       "      <td>Other</td>\n",
       "      <td>Jeddah</td>\n",
       "      <td>Other</td>\n",
       "      <td>Manual</td>\n",
       "      <td>Other</td>\n",
       "      <td>Semi Full</td>\n",
       "      <td>2021</td>\n",
       "      <td>1.2</td>\n",
       "      <td>3000</td>\n",
       "      <td>False</td>\n",
       "      <td>5500</td>\n",
       "    </tr>\n",
       "    <tr>\n",
       "      <td>1752</td>\n",
       "      <td>Other</td>\n",
       "      <td>Khobar</td>\n",
       "      <td>Other</td>\n",
       "      <td>Manual</td>\n",
       "      <td>Other</td>\n",
       "      <td>Semi Full</td>\n",
       "      <td>2019</td>\n",
       "      <td>2.4</td>\n",
       "      <td>1000</td>\n",
       "      <td>True</td>\n",
       "      <td>0</td>\n",
       "    </tr>\n",
       "    <tr>\n",
       "      <td>2595</td>\n",
       "      <td>Other</td>\n",
       "      <td>Jazan</td>\n",
       "      <td>Other</td>\n",
       "      <td>Manual</td>\n",
       "      <td>Other</td>\n",
       "      <td>Standard</td>\n",
       "      <td>2011</td>\n",
       "      <td>2.4</td>\n",
       "      <td>100000</td>\n",
       "      <td>True</td>\n",
       "      <td>0</td>\n",
       "    </tr>\n",
       "    <tr>\n",
       "      <td>3789</td>\n",
       "      <td>Other</td>\n",
       "      <td>Riyadh</td>\n",
       "      <td>Other</td>\n",
       "      <td>Automatic</td>\n",
       "      <td>Saudi</td>\n",
       "      <td>Full</td>\n",
       "      <td>2009</td>\n",
       "      <td>2.4</td>\n",
       "      <td>218000</td>\n",
       "      <td>True</td>\n",
       "      <td>0</td>\n",
       "    </tr>\n",
       "  </tbody>\n",
       "</table>\n",
       "</div>"
      ],
      "text/plain": [
       "       Type     Region   Make  Gear_Type Origin    Options  Year  Engine_Size  \\\n",
       "451   Other       Taef  Other  Automatic  Saudi       Full  2004          2.4   \n",
       "663   Other     Qassim  Other     Manual  Other   Standard  1980          2.4   \n",
       "881   Other    Al-Baha  Other     Manual  Other   Standard  2020          1.1   \n",
       "969   Other     Riyadh  Other     Manual  Saudi   Standard  2006          6.5   \n",
       "1199  Other     Qassim  Other     Manual  Other       Full  2019          8.0   \n",
       "1253  Other  Al-Medina  Other     Manual  Other   Standard  2009          2.4   \n",
       "1629  Other     Jeddah  Other     Manual  Other  Semi Full  2021          1.2   \n",
       "1752  Other     Khobar  Other     Manual  Other  Semi Full  2019          2.4   \n",
       "2595  Other      Jazan  Other     Manual  Other   Standard  2011          2.4   \n",
       "3789  Other     Riyadh  Other  Automatic  Saudi       Full  2009          2.4   \n",
       "\n",
       "      Mileage  Negotiable   Price  \n",
       "451      6000        True       0  \n",
       "663      2500       False  220000  \n",
       "881      2848       False    2000  \n",
       "969     81250        True       0  \n",
       "1199    24643       False  330000  \n",
       "1253     1300       False   26000  \n",
       "1629     3000       False    5500  \n",
       "1752     1000        True       0  \n",
       "2595   100000        True       0  \n",
       "3789   218000        True       0  "
      ]
     },
     "execution_count": 20,
     "metadata": {},
     "output_type": "execute_result"
    }
   ],
   "source": [
    "used_car[used_car['Make']=='Other']"
   ]
  },
  {
   "cell_type": "markdown",
   "metadata": {},
   "source": [
    "Terlihat bahwa ada beberapa data yang memiliki nilai 'Other' pada kolom *Make* memiliki juga nilai 'Other' pada kolom Type dan Origin. Kemudian kita cek apakah nilai berpengaruh pada nilai *Price*, jika kita kita akan menghapus saja data ini agar lebih mudah dalam melakukan pemodelan."
   ]
  },
  {
   "cell_type": "code",
   "execution_count": 21,
   "metadata": {},
   "outputs": [
    {
     "data": {
      "text/plain": [
       "count        10.000000\n",
       "mean      58350.000000\n",
       "std      117361.277449\n",
       "min           0.000000\n",
       "25%           0.000000\n",
       "50%        1000.000000\n",
       "75%       20875.000000\n",
       "max      330000.000000\n",
       "Name: Price, dtype: float64"
      ]
     },
     "execution_count": 21,
     "metadata": {},
     "output_type": "execute_result"
    }
   ],
   "source": [
    "used_car_others = used_car[(used_car['Make']=='Other')&(used_car['Type']=='Other')]\n",
    "used_car_others.Price.describe()"
   ]
  },
  {
   "cell_type": "markdown",
   "metadata": {},
   "source": [
    "Terlihat bahwa nilai 'Other' memiliki rerata nilai price 58350 dengan standar deviasi yang tinggi yaitu 117361, hal ini menunjukan bahwa mobil yang dijual tanpa spesifikasi yang jelas (bernilai 'Other') tidak memiliki nilai *Price* yang spesifik, karena itu nilai ini akan kita hapus."
   ]
  },
  {
   "cell_type": "code",
   "execution_count": 22,
   "metadata": {},
   "outputs": [],
   "source": [
    "used_car = used_car[(used_car['Make']!='Other')|(used_car['Type']!='Other')]"
   ]
  },
  {
   "cell_type": "code",
   "execution_count": 23,
   "metadata": {},
   "outputs": [
    {
     "name": "stdout",
     "output_type": "stream",
     "text": [
      "<class 'pandas.core.frame.DataFrame'>\n",
      "Int64Index: 5614 entries, 0 to 5623\n",
      "Data columns (total 11 columns):\n",
      "Type           5614 non-null object\n",
      "Region         5614 non-null object\n",
      "Make           5614 non-null object\n",
      "Gear_Type      5614 non-null object\n",
      "Origin         5614 non-null object\n",
      "Options        5614 non-null object\n",
      "Year           5614 non-null int64\n",
      "Engine_Size    5614 non-null float64\n",
      "Mileage        5614 non-null int64\n",
      "Negotiable     5614 non-null bool\n",
      "Price          5614 non-null int64\n",
      "dtypes: bool(1), float64(1), int64(3), object(6)\n",
      "memory usage: 487.9+ KB\n"
     ]
    }
   ],
   "source": [
    "used_car.info()"
   ]
  },
  {
   "cell_type": "markdown",
   "metadata": {},
   "source": [
    "Terdapat 10 data yang dihapuskan (10 data yang memiliki nilai 'Other' kolom *Make* dan *Type*)"
   ]
  },
  {
   "cell_type": "markdown",
   "metadata": {},
   "source": [
    "#### 3. Menemukan nilai outlier pada data, terutama pada kolom *Mileage* dan Mengatasi nilai nol pada kolom *Price*"
   ]
  },
  {
   "cell_type": "code",
   "execution_count": 24,
   "metadata": {},
   "outputs": [
    {
     "data": {
      "text/plain": [
       "<matplotlib.axes._subplots.AxesSubplot at 0x2017f1c9808>"
      ]
     },
     "execution_count": 24,
     "metadata": {},
     "output_type": "execute_result"
    },
    {
     "data": {
      "image/png": "[encoded data removed]",
      "text/plain": [
       "<Figure size 1080x720 with 4 Axes>"
      ]
     },
     "metadata": {
      "needs_background": "light"
     },
     "output_type": "display_data"
    }
   ],
   "source": [
    "plt.figure(figsize=(15,10))\n",
    "plt.subplot(2,2,1)\n",
    "sns.boxplot(used_car['Year'])\n",
    "plt.subplot(2,2,2)\n",
    "sns.boxplot(used_car['Engine_Size'])\n",
    "plt.subplot(2,2,3)\n",
    "sns.boxplot(used_car['Mileage'])\n",
    "plt.subplot(2,2,4)\n",
    "sns.boxplot(used_car['Price'])"
   ]
  },
  {
   "cell_type": "markdown",
   "metadata": {},
   "source": [
    "Terdapat beberapa nilai outlier pada kolom *Year*, *Engine_Size* dan *Price* tetapi data tersebut akan tetap kita gunakan, karena bukan merupakan nilai ekstrim. \n",
    "\n",
    "Kita akan berfokus pada nilai outlier yang ada pada kolom *Mileage*. Nilai outlier pada *Mileage* yang paling eksrim yang terlihat pada boxplot yaitu ada 2 data. Nilai *Mileage* sendiri merupakan jarak yang telah ditempuh mobil tersebut, rata-rata pertahun nilai *Milage* adalah 16.000 (https://ksa.motory.com). Kedepannya kita akan menghapus nilai outlier pada *kolom* mileage."
   ]
  },
  {
   "cell_type": "markdown",
   "metadata": {},
   "source": [
    "Dapat dilihat pada boxplot *Price* nilai minimal dan q1 berada pada nilai 0. Kedepannya untuk memudahkan analisa dan modeling, data yang memiliki nilai *Price* nol akan dihapus. Nilai nol pada Price berhubungan dengan nilai boolean yang terdapat pada kolom *Negotiable*, dimana jika True maka nilai *Price* adalah nol, jika kita menggunakan data dengan nilai *Price* bukan nol maka hanya akan muncul 1 nilai pada kolom *Negotiable*, oleh karena itu kedepannya kolom ini akan dihapus."
   ]
  },
  {
   "cell_type": "code",
   "execution_count": 25,
   "metadata": {},
   "outputs": [],
   "source": [
    "# Finding outliers index\n",
    "\n",
    "q1 = used_car['Mileage'].describe()['25%']\n",
    "q3 = used_car['Mileage'].describe()['75%']\n",
    "iqr = q3 - q1\n",
    "\n",
    "outlier_index = used_car[(used_car['Mileage'] < q1 - (1.5 * iqr)) | (used_car['Mileage']> q3 + (1.5 *iqr)) ].index"
   ]
  },
  {
   "cell_type": "code",
   "execution_count": 26,
   "metadata": {},
   "outputs": [
    {
     "name": "stdout",
     "output_type": "stream",
     "text": [
      "Jumlah data yang terhapus adalah = 1874\n"
     ]
    }
   ],
   "source": [
    "# Delete outliers in Mileage and zero value price data\n",
    "before_cl = len(used_car)\n",
    "used_car = used_car.drop(outlier_index)\n",
    "used_car = used_car[used_car['Price'] != 0]\n",
    "used_car.drop('Negotiable', axis=1, inplace=True)\n",
    "after_cl = len(used_car)\n",
    "total_cl = before_cl - after_cl\n",
    "print('Jumlah data yang terhapus adalah = {}'.format(total_cl))"
   ]
  },
  {
   "cell_type": "markdown",
   "metadata": {},
   "source": [
    "Terdapat 33% data yang dihapuskan dari menghapus nilai outlier dan nilai *Price* yang memiliki nilai 0."
   ]
  },
  {
   "cell_type": "markdown",
   "metadata": {},
   "source": [
    "#### 4. Menemukan data duplikat"
   ]
  },
  {
   "cell_type": "markdown",
   "metadata": {},
   "source": [
    "Berikutnya kita akan periksa apakah terdapat data duplikat, jika ada maka akan kita hapus data tersebut."
   ]
  },
  {
   "cell_type": "code",
   "execution_count": 27,
   "metadata": {},
   "outputs": [
    {
     "name": "stdout",
     "output_type": "stream",
     "text": [
      "Number of duplicate rows:  3\n",
      "Number of duplicate rows:  0\n"
     ]
    }
   ],
   "source": [
    "print(\"Number of duplicate rows: \", sum(used_car.duplicated()))\n",
    "used_car.drop_duplicates(inplace=True)\n",
    "print(\"Number of duplicate rows: \", sum(used_car.duplicated()))"
   ]
  },
  {
   "cell_type": "markdown",
   "metadata": {},
   "source": [
    "Terdapat 3 data duplikat yang ditemukan, berdasarkan fungsi diatas data tersebut telah terhapus."
   ]
  },
  {
   "cell_type": "markdown",
   "metadata": {},
   "source": [
    "#### 4. Cek kembali data"
   ]
  },
  {
   "cell_type": "markdown",
   "metadata": {},
   "source": [
    "Kita cek kembali data yang telah kita olah:"
   ]
  },
  {
   "cell_type": "code",
   "execution_count": 28,
   "metadata": {},
   "outputs": [
    {
     "name": "stdout",
     "output_type": "stream",
     "text": [
      "<class 'pandas.core.frame.DataFrame'>\n",
      "Int64Index: 3737 entries, 1 to 5622\n",
      "Data columns (total 10 columns):\n",
      "Type           3737 non-null object\n",
      "Region         3737 non-null object\n",
      "Make           3737 non-null object\n",
      "Gear_Type      3737 non-null object\n",
      "Origin         3737 non-null object\n",
      "Options        3737 non-null object\n",
      "Year           3737 non-null int64\n",
      "Engine_Size    3737 non-null float64\n",
      "Mileage        3737 non-null int64\n",
      "Price          3737 non-null int64\n",
      "dtypes: float64(1), int64(3), object(6)\n",
      "memory usage: 321.1+ KB\n"
     ]
    }
   ],
   "source": [
    "# Check data informations\n",
    "used_car.info()"
   ]
  },
  {
   "cell_type": "markdown",
   "metadata": {},
   "source": [
    "Terlihat bahwa data yang sebelumnya berjumlah 11 kolom dan 5625 baris menjadi 10 kolom dan 3742 baris. Berkurangnya data dalam jumlah besar ini dikarenakan dihapusnya data dengan nilai *Price* = 0."
   ]
  },
  {
   "cell_type": "code",
   "execution_count": 29,
   "metadata": {
    "scrolled": true
   },
   "outputs": [
    {
     "data": {
      "text/html": [
       "<div>\n",
       "<style scoped>\n",
       "    .dataframe tbody tr th:only-of-type {\n",
       "        vertical-align: middle;\n",
       "    }\n",
       "\n",
       "    .dataframe tbody tr th {\n",
       "        vertical-align: top;\n",
       "    }\n",
       "\n",
       "    .dataframe thead th {\n",
       "        text-align: right;\n",
       "    }\n",
       "</style>\n",
       "<table border=\"1\" class=\"dataframe\">\n",
       "  <thead>\n",
       "    <tr style=\"text-align: right;\">\n",
       "      <th></th>\n",
       "      <th>dataFeatures</th>\n",
       "      <th>dataType</th>\n",
       "      <th>null</th>\n",
       "      <th>nullPct</th>\n",
       "      <th>unique</th>\n",
       "      <th>uniqueSample</th>\n",
       "    </tr>\n",
       "  </thead>\n",
       "  <tbody>\n",
       "    <tr>\n",
       "      <td>0</td>\n",
       "      <td>Type</td>\n",
       "      <td>object</td>\n",
       "      <td>0</td>\n",
       "      <td>0.0</td>\n",
       "      <td>319</td>\n",
       "      <td>[The M, The 5]</td>\n",
       "    </tr>\n",
       "    <tr>\n",
       "      <td>1</td>\n",
       "      <td>Region</td>\n",
       "      <td>object</td>\n",
       "      <td>0</td>\n",
       "      <td>0.0</td>\n",
       "      <td>27</td>\n",
       "      <td>[Al-Jouf, Al-Ahsa]</td>\n",
       "    </tr>\n",
       "    <tr>\n",
       "      <td>2</td>\n",
       "      <td>Make</td>\n",
       "      <td>object</td>\n",
       "      <td>0</td>\n",
       "      <td>0.0</td>\n",
       "      <td>55</td>\n",
       "      <td>[Porsche, Foton]</td>\n",
       "    </tr>\n",
       "    <tr>\n",
       "      <td>3</td>\n",
       "      <td>Gear_Type</td>\n",
       "      <td>object</td>\n",
       "      <td>0</td>\n",
       "      <td>0.0</td>\n",
       "      <td>2</td>\n",
       "      <td>[Automatic, Manual]</td>\n",
       "    </tr>\n",
       "    <tr>\n",
       "      <td>4</td>\n",
       "      <td>Origin</td>\n",
       "      <td>object</td>\n",
       "      <td>0</td>\n",
       "      <td>0.0</td>\n",
       "      <td>3</td>\n",
       "      <td>[Other, Gulf Arabic]</td>\n",
       "    </tr>\n",
       "    <tr>\n",
       "      <td>5</td>\n",
       "      <td>Options</td>\n",
       "      <td>object</td>\n",
       "      <td>0</td>\n",
       "      <td>0.0</td>\n",
       "      <td>3</td>\n",
       "      <td>[Standard, Semi Full]</td>\n",
       "    </tr>\n",
       "    <tr>\n",
       "      <td>6</td>\n",
       "      <td>Year</td>\n",
       "      <td>int64</td>\n",
       "      <td>0</td>\n",
       "      <td>0.0</td>\n",
       "      <td>40</td>\n",
       "      <td>[2014, 2006]</td>\n",
       "    </tr>\n",
       "    <tr>\n",
       "      <td>7</td>\n",
       "      <td>Engine_Size</td>\n",
       "      <td>float64</td>\n",
       "      <td>0</td>\n",
       "      <td>0.0</td>\n",
       "      <td>65</td>\n",
       "      <td>[3.9, 5.5]</td>\n",
       "    </tr>\n",
       "    <tr>\n",
       "      <td>8</td>\n",
       "      <td>Mileage</td>\n",
       "      <td>int64</td>\n",
       "      <td>0</td>\n",
       "      <td>0.0</td>\n",
       "      <td>1282</td>\n",
       "      <td>[212000, 179858]</td>\n",
       "    </tr>\n",
       "    <tr>\n",
       "      <td>9</td>\n",
       "      <td>Price</td>\n",
       "      <td>int64</td>\n",
       "      <td>0</td>\n",
       "      <td>0.0</td>\n",
       "      <td>461</td>\n",
       "      <td>[45000, 236500]</td>\n",
       "    </tr>\n",
       "  </tbody>\n",
       "</table>\n",
       "</div>"
      ],
      "text/plain": [
       "  dataFeatures dataType  null  nullPct  unique           uniqueSample\n",
       "0         Type   object     0      0.0     319         [The M, The 5]\n",
       "1       Region   object     0      0.0      27     [Al-Jouf, Al-Ahsa]\n",
       "2         Make   object     0      0.0      55       [Porsche, Foton]\n",
       "3    Gear_Type   object     0      0.0       2    [Automatic, Manual]\n",
       "4       Origin   object     0      0.0       3   [Other, Gulf Arabic]\n",
       "5      Options   object     0      0.0       3  [Standard, Semi Full]\n",
       "6         Year    int64     0      0.0      40           [2014, 2006]\n",
       "7  Engine_Size  float64     0      0.0      65             [3.9, 5.5]\n",
       "8      Mileage    int64     0      0.0    1282       [212000, 179858]\n",
       "9        Price    int64     0      0.0     461        [45000, 236500]"
      ]
     },
     "execution_count": 29,
     "metadata": {},
     "output_type": "execute_result"
    }
   ],
   "source": [
    "# Check Missing and Unique Values\n",
    "listItem = []\n",
    "for col in used_car.columns :\n",
    "    listItem.append([col, used_car[col].dtype, used_car[col].isna().sum(), round((used_car[col].isna().sum()/len(used_car[col])) * 100,2),\n",
    "                    used_car[col].nunique(), list(used_car[col].drop_duplicates().sample(2).values)]);\n",
    "\n",
    "dfDesc = pd.DataFrame(columns=['dataFeatures', 'dataType', 'null', 'nullPct', 'unique', 'uniqueSample'],\n",
    "                     data=listItem)\n",
    "dfDesc"
   ]
  },
  {
   "cell_type": "code",
   "execution_count": 30,
   "metadata": {},
   "outputs": [
    {
     "data": {
      "text/html": [
       "<div>\n",
       "<style scoped>\n",
       "    .dataframe tbody tr th:only-of-type {\n",
       "        vertical-align: middle;\n",
       "    }\n",
       "\n",
       "    .dataframe tbody tr th {\n",
       "        vertical-align: top;\n",
       "    }\n",
       "\n",
       "    .dataframe thead th {\n",
       "        text-align: right;\n",
       "    }\n",
       "</style>\n",
       "<table border=\"1\" class=\"dataframe\">\n",
       "  <thead>\n",
       "    <tr style=\"text-align: right;\">\n",
       "      <th></th>\n",
       "      <th>Year</th>\n",
       "      <th>Engine_Size</th>\n",
       "      <th>Mileage</th>\n",
       "      <th>Price</th>\n",
       "    </tr>\n",
       "  </thead>\n",
       "  <tbody>\n",
       "    <tr>\n",
       "      <td>count</td>\n",
       "      <td>3737.000000</td>\n",
       "      <td>3737.000000</td>\n",
       "      <td>3737.000000</td>\n",
       "      <td>3737.000000</td>\n",
       "    </tr>\n",
       "    <tr>\n",
       "      <td>mean</td>\n",
       "      <td>2015.032647</td>\n",
       "      <td>3.175488</td>\n",
       "      <td>120709.034520</td>\n",
       "      <td>78836.845866</td>\n",
       "    </tr>\n",
       "    <tr>\n",
       "      <td>std</td>\n",
       "      <td>4.905641</td>\n",
       "      <td>1.456097</td>\n",
       "      <td>96751.911628</td>\n",
       "      <td>72759.299022</td>\n",
       "    </tr>\n",
       "    <tr>\n",
       "      <td>min</td>\n",
       "      <td>1963.000000</td>\n",
       "      <td>1.000000</td>\n",
       "      <td>100.000000</td>\n",
       "      <td>1.000000</td>\n",
       "    </tr>\n",
       "    <tr>\n",
       "      <td>25%</td>\n",
       "      <td>2014.000000</td>\n",
       "      <td>2.000000</td>\n",
       "      <td>47000.000000</td>\n",
       "      <td>36000.000000</td>\n",
       "    </tr>\n",
       "    <tr>\n",
       "      <td>50%</td>\n",
       "      <td>2016.000000</td>\n",
       "      <td>2.700000</td>\n",
       "      <td>100000.000000</td>\n",
       "      <td>58000.000000</td>\n",
       "    </tr>\n",
       "    <tr>\n",
       "      <td>75%</td>\n",
       "      <td>2018.000000</td>\n",
       "      <td>4.000000</td>\n",
       "      <td>176332.000000</td>\n",
       "      <td>95000.000000</td>\n",
       "    </tr>\n",
       "    <tr>\n",
       "      <td>max</td>\n",
       "      <td>2021.000000</td>\n",
       "      <td>9.000000</td>\n",
       "      <td>433000.000000</td>\n",
       "      <td>850000.000000</td>\n",
       "    </tr>\n",
       "  </tbody>\n",
       "</table>\n",
       "</div>"
      ],
      "text/plain": [
       "              Year  Engine_Size        Mileage          Price\n",
       "count  3737.000000  3737.000000    3737.000000    3737.000000\n",
       "mean   2015.032647     3.175488  120709.034520   78836.845866\n",
       "std       4.905641     1.456097   96751.911628   72759.299022\n",
       "min    1963.000000     1.000000     100.000000       1.000000\n",
       "25%    2014.000000     2.000000   47000.000000   36000.000000\n",
       "50%    2016.000000     2.700000  100000.000000   58000.000000\n",
       "75%    2018.000000     4.000000  176332.000000   95000.000000\n",
       "max    2021.000000     9.000000  433000.000000  850000.000000"
      ]
     },
     "execution_count": 30,
     "metadata": {},
     "output_type": "execute_result"
    }
   ],
   "source": [
    "# Check numerical data's descriptive statistics\n",
    "used_car.describe()"
   ]
  },
  {
   "cell_type": "markdown",
   "metadata": {},
   "source": [
    "Terlihat pada data *Price* masih terdapat anomali, yaitu nilai minimal yang bernilai 1. Kita akan cek nilai *Price* kembali dengan mengurutkan dari yang terkecil."
   ]
  },
  {
   "cell_type": "code",
   "execution_count": 31,
   "metadata": {},
   "outputs": [
    {
     "data": {
      "text/html": [
       "<div>\n",
       "<style scoped>\n",
       "    .dataframe tbody tr th:only-of-type {\n",
       "        vertical-align: middle;\n",
       "    }\n",
       "\n",
       "    .dataframe tbody tr th {\n",
       "        vertical-align: top;\n",
       "    }\n",
       "\n",
       "    .dataframe thead th {\n",
       "        text-align: right;\n",
       "    }\n",
       "</style>\n",
       "<table border=\"1\" class=\"dataframe\">\n",
       "  <thead>\n",
       "    <tr style=\"text-align: right;\">\n",
       "      <th></th>\n",
       "      <th>Type</th>\n",
       "      <th>Region</th>\n",
       "      <th>Make</th>\n",
       "      <th>Gear_Type</th>\n",
       "      <th>Origin</th>\n",
       "      <th>Options</th>\n",
       "      <th>Year</th>\n",
       "      <th>Engine_Size</th>\n",
       "      <th>Mileage</th>\n",
       "      <th>Price</th>\n",
       "    </tr>\n",
       "  </thead>\n",
       "  <tbody>\n",
       "    <tr>\n",
       "      <td>3131</td>\n",
       "      <td>Yukon</td>\n",
       "      <td>Jubail</td>\n",
       "      <td>GMC</td>\n",
       "      <td>Automatic</td>\n",
       "      <td>Saudi</td>\n",
       "      <td>Full</td>\n",
       "      <td>2019</td>\n",
       "      <td>5.3</td>\n",
       "      <td>50000</td>\n",
       "      <td>1</td>\n",
       "    </tr>\n",
       "    <tr>\n",
       "      <td>3992</td>\n",
       "      <td>G80</td>\n",
       "      <td>Riyadh</td>\n",
       "      <td>Genesis</td>\n",
       "      <td>Automatic</td>\n",
       "      <td>Other</td>\n",
       "      <td>Semi Full</td>\n",
       "      <td>2018</td>\n",
       "      <td>3.8</td>\n",
       "      <td>170000</td>\n",
       "      <td>500</td>\n",
       "    </tr>\n",
       "    <tr>\n",
       "      <td>4399</td>\n",
       "      <td>Yaris</td>\n",
       "      <td>Riyadh</td>\n",
       "      <td>Toyota</td>\n",
       "      <td>Automatic</td>\n",
       "      <td>Saudi</td>\n",
       "      <td>Standard</td>\n",
       "      <td>2018</td>\n",
       "      <td>1.5</td>\n",
       "      <td>100000</td>\n",
       "      <td>850</td>\n",
       "    </tr>\n",
       "    <tr>\n",
       "      <td>5128</td>\n",
       "      <td>Rio</td>\n",
       "      <td>Arar</td>\n",
       "      <td>Kia</td>\n",
       "      <td>Automatic</td>\n",
       "      <td>Saudi</td>\n",
       "      <td>Standard</td>\n",
       "      <td>2019</td>\n",
       "      <td>1.4</td>\n",
       "      <td>55500</td>\n",
       "      <td>884</td>\n",
       "    </tr>\n",
       "    <tr>\n",
       "      <td>3474</td>\n",
       "      <td>Yaris</td>\n",
       "      <td>Najran</td>\n",
       "      <td>Toyota</td>\n",
       "      <td>Automatic</td>\n",
       "      <td>Saudi</td>\n",
       "      <td>Standard</td>\n",
       "      <td>2019</td>\n",
       "      <td>1.6</td>\n",
       "      <td>85000</td>\n",
       "      <td>950</td>\n",
       "    </tr>\n",
       "  </tbody>\n",
       "</table>\n",
       "</div>"
      ],
      "text/plain": [
       "       Type  Region     Make  Gear_Type Origin    Options  Year  Engine_Size  \\\n",
       "3131  Yukon  Jubail      GMC  Automatic  Saudi       Full  2019          5.3   \n",
       "3992    G80  Riyadh  Genesis  Automatic  Other  Semi Full  2018          3.8   \n",
       "4399  Yaris  Riyadh   Toyota  Automatic  Saudi   Standard  2018          1.5   \n",
       "5128    Rio    Arar      Kia  Automatic  Saudi   Standard  2019          1.4   \n",
       "3474  Yaris  Najran   Toyota  Automatic  Saudi   Standard  2019          1.6   \n",
       "\n",
       "      Mileage  Price  \n",
       "3131    50000      1  \n",
       "3992   170000    500  \n",
       "4399   100000    850  \n",
       "5128    55500    884  \n",
       "3474    85000    950  "
      ]
     },
     "execution_count": 31,
     "metadata": {},
     "output_type": "execute_result"
    }
   ],
   "source": [
    "used_car.sort_values(by='Price')[:5]"
   ]
  },
  {
   "cell_type": "code",
   "execution_count": 32,
   "metadata": {},
   "outputs": [
    {
     "data": {
      "text/plain": [
       "<matplotlib.axes._subplots.AxesSubplot at 0x2017f61e148>"
      ]
     },
     "execution_count": 32,
     "metadata": {},
     "output_type": "execute_result"
    },
    {
     "data": {
      "image/png": "[encoded data removed]",
      "text/plain": [
       "<Figure size 432x432 with 1 Axes>"
      ]
     },
     "metadata": {
      "needs_background": "light"
     },
     "output_type": "display_data"
    }
   ],
   "source": [
    "plt.figure(figsize=(6,6))\n",
    "sns.distplot(used_car['Price'])"
   ]
  },
  {
   "cell_type": "markdown",
   "metadata": {},
   "source": [
    "Terlihat dari tabel diatas terdapat 1 data yang memiliki nilai *Price* = 1 (akan dihapuskan) dan  dari distribusi data juga terlihat bahwa nilai *Price* cenderung condong ke kanan, yang menandakan bahwa banyaknya nilai price yang rendah."
   ]
  },
  {
   "cell_type": "code",
   "execution_count": 33,
   "metadata": {},
   "outputs": [],
   "source": [
    "# Deleting row with price value 1\n",
    "used_car = used_car[used_car['Price'] != 1]"
   ]
  },
  {
   "cell_type": "code",
   "execution_count": 34,
   "metadata": {},
   "outputs": [
    {
     "data": {
      "text/html": [
       "<div>\n",
       "<style scoped>\n",
       "    .dataframe tbody tr th:only-of-type {\n",
       "        vertical-align: middle;\n",
       "    }\n",
       "\n",
       "    .dataframe tbody tr th {\n",
       "        vertical-align: top;\n",
       "    }\n",
       "\n",
       "    .dataframe thead th {\n",
       "        text-align: right;\n",
       "    }\n",
       "</style>\n",
       "<table border=\"1\" class=\"dataframe\">\n",
       "  <thead>\n",
       "    <tr style=\"text-align: right;\">\n",
       "      <th></th>\n",
       "      <th>Year</th>\n",
       "      <th>Engine_Size</th>\n",
       "      <th>Mileage</th>\n",
       "      <th>Price</th>\n",
       "    </tr>\n",
       "  </thead>\n",
       "  <tbody>\n",
       "    <tr>\n",
       "      <td>count</td>\n",
       "      <td>3736.000000</td>\n",
       "      <td>3736.000000</td>\n",
       "      <td>3736.000000</td>\n",
       "      <td>3736.000000</td>\n",
       "    </tr>\n",
       "    <tr>\n",
       "      <td>mean</td>\n",
       "      <td>2015.031585</td>\n",
       "      <td>3.174920</td>\n",
       "      <td>120727.960921</td>\n",
       "      <td>78857.947537</td>\n",
       "    </tr>\n",
       "    <tr>\n",
       "      <td>std</td>\n",
       "      <td>4.905868</td>\n",
       "      <td>1.455877</td>\n",
       "      <td>96757.943825</td>\n",
       "      <td>72757.601085</td>\n",
       "    </tr>\n",
       "    <tr>\n",
       "      <td>min</td>\n",
       "      <td>1963.000000</td>\n",
       "      <td>1.000000</td>\n",
       "      <td>100.000000</td>\n",
       "      <td>500.000000</td>\n",
       "    </tr>\n",
       "    <tr>\n",
       "      <td>25%</td>\n",
       "      <td>2014.000000</td>\n",
       "      <td>2.000000</td>\n",
       "      <td>47000.000000</td>\n",
       "      <td>36000.000000</td>\n",
       "    </tr>\n",
       "    <tr>\n",
       "      <td>50%</td>\n",
       "      <td>2016.000000</td>\n",
       "      <td>2.700000</td>\n",
       "      <td>100000.000000</td>\n",
       "      <td>58000.000000</td>\n",
       "    </tr>\n",
       "    <tr>\n",
       "      <td>75%</td>\n",
       "      <td>2018.000000</td>\n",
       "      <td>4.000000</td>\n",
       "      <td>176424.000000</td>\n",
       "      <td>95000.000000</td>\n",
       "    </tr>\n",
       "    <tr>\n",
       "      <td>max</td>\n",
       "      <td>2021.000000</td>\n",
       "      <td>9.000000</td>\n",
       "      <td>433000.000000</td>\n",
       "      <td>850000.000000</td>\n",
       "    </tr>\n",
       "  </tbody>\n",
       "</table>\n",
       "</div>"
      ],
      "text/plain": [
       "              Year  Engine_Size        Mileage          Price\n",
       "count  3736.000000  3736.000000    3736.000000    3736.000000\n",
       "mean   2015.031585     3.174920  120727.960921   78857.947537\n",
       "std       4.905868     1.455877   96757.943825   72757.601085\n",
       "min    1963.000000     1.000000     100.000000     500.000000\n",
       "25%    2014.000000     2.000000   47000.000000   36000.000000\n",
       "50%    2016.000000     2.700000  100000.000000   58000.000000\n",
       "75%    2018.000000     4.000000  176424.000000   95000.000000\n",
       "max    2021.000000     9.000000  433000.000000  850000.000000"
      ]
     },
     "execution_count": 34,
     "metadata": {},
     "output_type": "execute_result"
    }
   ],
   "source": [
    "used_car.describe()"
   ]
  },
  {
   "cell_type": "code",
   "execution_count": 35,
   "metadata": {},
   "outputs": [
    {
     "name": "stdout",
     "output_type": "stream",
     "text": [
      "\u001b[1mUnique Value in Type Feature\n",
      "['Riyadh' 'Hafar Al-Batin' 'Abha' 'Makkah' 'Dammam' 'Jeddah' 'Khobar'\n",
      " 'Al-Baha' 'Jazan' 'Aseer' 'Al-Medina' 'Al-Namas' 'Taef' 'Arar' 'Qassim'\n",
      " 'Al-Ahsa' 'Sabya' 'Al-Jouf' 'Najran' 'Hail' 'Tabouk' 'Jubail'\n",
      " 'Wadi Dawasir' 'Yanbu' 'Besha' 'Sakaka' 'Qurayyat']\n",
      "\n",
      "\n",
      "\u001b[1mUnique Value in Type Feature\n",
      "['Yukon' 'Range Rover' 'Optima' 'CX3' 'Cayenne S' 'Sonata' 'Avalon' 'C300'\n",
      " 'Land Cruiser' 'LS' 'FJ' 'Tucson' 'Sunny' 'Pajero' 'Azera' 'Focus' '5'\n",
      " 'Spark' 'Accent' 'ML' 'Corolla' 'Tahoe' 'A' 'Altima' 'Expedition'\n",
      " 'Senta fe' 'Liberty' 'X' 'Elantra' 'Land Cruiser Pickup' 'VTC' 'Malibu'\n",
      " 'The 5' 'Patrol' 'Grand Cherokee' 'Camry' 'SL' 'Previa' 'MKZ' 'Datsun'\n",
      " 'Hilux' 'GLC' 'Edge' '6' 'Innova' 'Navara' 'G80' 'Carnival' 'Suburban'\n",
      " 'Camaro' 'Accord' 'Taurus' 'Flex' 'S' 'Cerato' 'Murano' 'Land Cruiser 70'\n",
      " '3' 'Pick up' 'Charger' 'H6' 'Hiace' 'Fusion' 'Aveo' 'CX9' 'Yaris'\n",
      " 'Sierra' 'CT-S' 'Sylvian Bus' 'ES' 'Navigator' 'Opirus' 'The 7' 'Creta'\n",
      " 'CS35' 'The 3' 'GLE' 'Sedona' 'Victoria' 'Prestige' 'CLA' 'Vanquish'\n",
      " 'Safrane' 'Cores' 'Cadenza' \"D'max\" 'Silverado' 'Rio' 'Maxima' 'X-Trail'\n",
      " 'Cruze' 'C' 'Seven' 'Prado' 'Caprice' 'Grand Marquis' 'LX' 'Impala' 'QX'\n",
      " 'Blazer' 'Wingle' 'H1' 'Rav4' 'The M' 'Genesis' 'K5' 'Pathfinder'\n",
      " 'Traverse' 'Furniture' 'SEL' 'Civic' 'Echo Sport' 'Challenger' 'CL'\n",
      " 'Wrangler' 'A6' 'Dokker' 'CX5' 'Mohave' 'Explorer' 'Ghost' 'Durango'\n",
      " 'Rush' 'Sentra' 'Cherokee' 'Veloster' 'E' 'G' 'IS' 'Fluence' 'Vego'\n",
      " 'Ciocca' 'Marquis' 'Q' 'F3' 'Kona' 'UX' 'Beetle' 'F150' 'Lancer' 'Van R'\n",
      " 'Mustang' 'CS35 Plus' 'DB9' 'Sorento' 'APV' 'Viano' 'EC7' 'Safari'\n",
      " 'Cadillac' 'Duster' 'RX' 'Platinum' 'Carenz' 'Avanza' 'Emgrand' 'D-MAX'\n",
      " 'Dyna' 'Z' 'Coupe S' 'Odyssey' 'Panamera' 'Juke' 'Sportage' 'C200'\n",
      " 'Attrage' 'GS' 'X-Terra' 'Picanto' 'CT5' 'KICKS' 'Gran Max' 'Cayman' 'A8'\n",
      " 'Levante' 'Optra' 'Other' 'Montero' '300' 'A3' 'Touareg' 'Passat' 'Delta'\n",
      " 'Acadia' 'H3' 'GS3' 'Coupe' 'Cayenne Turbo' 'Colorado' 'Vitara' 'Kaptiva'\n",
      " 'Nativa' 'CLS' 'LF X60' 'Aurion' 'Koleos' 'Abeka' 'Flying Spur' 'Pilot'\n",
      " 'L200' 'Ranger' 'Escalade' 'A7' 'Quattroporte' 'Compass' 'Bus Urvan'\n",
      " 'Macan' 'Azkarra' 'GL' 'City' 'Symbol' 'Ertiga' 'RX5' 'Envoy' 'CT6'\n",
      " 'Fleetwood' 'Tiggo' 'Q5' 'A4' 'XJ' 'H2' 'HS' 'Seltos' 'RX8' '301' 'EC8'\n",
      " '3008' 'Suvana' 'Prius' 'Cayenne' 'Eado' 'Royal' 'NX' 'Copper' 'CS75'\n",
      " 'F-Pace' 'Coolray' 'CS85' 'Jimny' 'GC7' '360' 'A5' 'S300' 'Superb' 'Ram'\n",
      " 'Terrain' '500' 'Armada' 'Logan' '5008' 'Tiguan' 'Golf' 'CS95' 'S5' '911'\n",
      " 'Camargue' 'M' 'Defender' 'Daily' 'Nitro' 'Mini Van' 'Pegas'\n",
      " 'Grand Vitara' 'FX' 'L300' 'Coaster' 'Discovery' 'Montero2' 'Cressida'\n",
      " 'Bentayga' 'Z370' 'Bus County' 'Stinger' 'SRT' 'CT4' 'F Type' 'CC' 'ASX'\n",
      " 'Carens' 'XT5' 'Tuscani' '4Runner' 'ATS' 'CRV' 'The 4' 'HRV' 'X7' 'GX'\n",
      " 'Outlander' 'X40' 'Q7' 'ZS' 'G70' 'Megane' 'Power' 'B50' 'Town Car' 'Van'\n",
      " '2' 'i40' 'XF' 'RC' 'Doblo' 'MKX' 'The 6' 'Jetta' 'Soul' 'Lumina' 'Dzire'\n",
      " 'Avante' 'Z350' 'CX7' 'Countryman' 'GTB 599 Fiorano' 'Prestige Plus'\n",
      " 'MKS' 'Milan' 'Savana' 'S8']\n",
      "\n",
      "\n",
      "\u001b[1mUnique Value in Make Feature\n",
      "['GMC' 'Land Rover' 'Kia' 'Mazda' 'Porsche' 'Hyundai' 'Toyota' 'Chrysler'\n",
      " 'Lexus' 'Nissan' 'Mitsubishi' 'Ford' 'MG' 'Chevrolet' 'Mercedes' 'Jeep'\n",
      " 'BMW' 'Lincoln' 'Genesis' 'Honda' 'Zhengzhou' 'Dodge' 'HAVAL' 'Cadillac'\n",
      " 'Changan' 'Aston Martin' 'Renault' 'Suzuki' 'Mercury' 'INFINITI'\n",
      " 'Great Wall' 'Audi' 'Rolls-Royce' 'BYD' 'Volkswagen' 'Victory Auto'\n",
      " 'Geely' 'Classic' 'Isuzu' 'Daihatsu' 'Maserati' 'Hummer' 'GAC' 'Lifan'\n",
      " 'Bentley' 'Chery' 'Jaguar' 'Peugeot' 'Foton' 'MINI' 'Škoda' 'Fiat'\n",
      " 'Iveco' 'FAW' 'Ferrari']\n",
      "\n",
      "\n",
      "\u001b[1mUnique Value in Gear Type Feature\n",
      "['Automatic' 'Manual']\n",
      "\n",
      "\n",
      "\u001b[1mUnique Value in Origin Feature\n",
      "['Saudi' 'Gulf Arabic' 'Other']\n",
      "\n",
      "\n",
      "\u001b[1mUnique Value in Options Feature\n",
      "['Full' 'Semi Full' 'Standard']\n",
      "\n",
      "\n",
      "\u001b[1mUnique Value in Year Feature\n",
      "[2014 2015 2019 2012 2016 2013 2011 2008 2020 2018 2021 2017 2010 2001\n",
      " 1999 2007 1995 2006 2009 2003 2005 1993 1983 2000 1997 2004 1990 2002\n",
      " 1994 1988 1991 1996 1964 1989 1998 1978 1985 1980 1992 1963]\n",
      "\n",
      "\n",
      "\u001b[1mUnique Value in Engine Size Feature\n",
      "[8.  5.  2.4 2.  4.8 3.5 5.7 4.6 4.  1.4 3.  1.6 1.5 6.2 2.5 5.3 5.4 3.3\n",
      " 3.7 3.6 9.  4.7 2.7 4.5 3.8 1.  5.5 2.6 1.8 1.2 6.9 3.2 6.  2.2 5.6 1.1\n",
      " 2.9 4.1 1.7 1.3 4.4 3.4 8.8 6.1 1.9 7.5 4.3 2.8 5.8 8.5 2.3 7.2 7.  6.3\n",
      " 4.2 5.2 6.4 2.1 3.1 6.6 6.7 3.9 8.7 4.9 6.8]\n"
     ]
    }
   ],
   "source": [
    "print('\\033[1mUnique Value in Type Feature')\n",
    "print(used_car['Region'].unique())\n",
    "print('\\n')\n",
    "print('\\033[1mUnique Value in Type Feature')\n",
    "print(used_car['Type'].unique())\n",
    "print('\\n')\n",
    "print('\\033[1mUnique Value in Make Feature')\n",
    "print(used_car['Make'].unique())\n",
    "print('\\n')\n",
    "print('\\033[1mUnique Value in Gear Type Feature')\n",
    "print(used_car['Gear_Type'].unique())\n",
    "print('\\n')\n",
    "print('\\033[1mUnique Value in Origin Feature')\n",
    "print(used_car['Origin'].unique())\n",
    "print('\\n')\n",
    "print('\\033[1mUnique Value in Options Feature')\n",
    "print(used_car['Options'].unique())\n",
    "print('\\n')\n",
    "print('\\033[1mUnique Value in Year Feature')\n",
    "print(used_car['Year'].unique())\n",
    "print('\\n')\n",
    "print('\\033[1mUnique Value in Engine Size Feature')\n",
    "print(used_car['Engine_Size'].unique())"
   ]
  },
  {
   "cell_type": "markdown",
   "metadata": {},
   "source": [
    "### EDA : Numeric Variable"
   ]
  },
  {
   "cell_type": "code",
   "execution_count": 36,
   "metadata": {},
   "outputs": [
    {
     "data": {
      "text/plain": [
       "<matplotlib.axes._subplots.AxesSubplot at 0x2017f853988>"
      ]
     },
     "execution_count": 36,
     "metadata": {},
     "output_type": "execute_result"
    },
    {
     "data": {
      "image/png": "[encoded data removed]",
      "text/plain": [
       "<Figure size 864x576 with 2 Axes>"
      ]
     },
     "metadata": {
      "needs_background": "light"
     },
     "output_type": "display_data"
    }
   ],
   "source": [
    "plt.figure(figsize=(12,8))\n",
    "plt.subplot(2,1,1)\n",
    "sns.boxplot(used_car['Price'])\n",
    "plt.subplot(2,1,2)\n",
    "sns.distplot(used_car['Price'])"
   ]
  },
  {
   "cell_type": "markdown",
   "metadata": {},
   "source": [
    "Terlihat dari grafik bahwa fitur *Price* tidak terdistribusi normal (positively skewed), hal ini menunjukan terdapat beberapa nilai price yang tinggi (outlier) yang menyebabkan data condong ke kanan."
   ]
  },
  {
   "cell_type": "markdown",
   "metadata": {},
   "source": [
    "### EDA : Categorical Variables"
   ]
  },
  {
   "cell_type": "code",
   "execution_count": 37,
   "metadata": {},
   "outputs": [
    {
     "data": {
      "text/plain": [
       "<matplotlib.axes._subplots.AxesSubplot at 0x2017f962788>"
      ]
     },
     "execution_count": 37,
     "metadata": {},
     "output_type": "execute_result"
    },
    {
     "data": {
      "image/png": "[encoded data removed]",
      "text/plain": [
       "<Figure size 864x576 with 2 Axes>"
      ]
     },
     "metadata": {
      "needs_background": "light"
     },
     "output_type": "display_data"
    }
   ],
   "source": [
    "plt.figure(figsize=(12,8))\n",
    "plt.subplot(2,1,1)\n",
    "sns.boxplot(used_car['Mileage'], color='green')\n",
    "plt.subplot(2,1,2)\n",
    "sns.distplot(used_car['Mileage'], color='green')"
   ]
  },
  {
   "cell_type": "markdown",
   "metadata": {},
   "source": [
    "Sama halnya seperti fitur *Price*, fitur *Mileage* juga memiliki kecondongan ke kanan. Selain itu juga terlihat pada distplot terdapat nilai yang berjumlah banyak di dekat nilai nol."
   ]
  },
  {
   "cell_type": "code",
   "execution_count": 38,
   "metadata": {},
   "outputs": [
    {
     "data": {
      "text/plain": [
       "<seaborn.axisgrid.PairGrid at 0x2017fa51e88>"
      ]
     },
     "execution_count": 38,
     "metadata": {},
     "output_type": "execute_result"
    },
    {
     "data": {
      "image/png": "[encoded data removed]",
      "text/plain": [
       "<Figure size 720x720 with 20 Axes>"
      ]
     },
     "metadata": {
      "needs_background": "light"
     },
     "output_type": "display_data"
    }
   ],
   "source": [
    "# Scatter plot Price vs Mileage Feature\n",
    "\n",
    "sns.pairplot(used_car)\n",
    "# plt.figure(figsize=(10,10))\n",
    "# sns.scatterplot(data=used_car, x='Mileage', y='Price')"
   ]
  },
  {
   "cell_type": "code",
   "execution_count": 39,
   "metadata": {},
   "outputs": [
    {
     "data": {
      "text/plain": [
       "(4.0, 0.0)"
      ]
     },
     "execution_count": 39,
     "metadata": {},
     "output_type": "execute_result"
    },
    {
     "data": {
      "image/png": "[encoded data removed]",
      "text/plain": [
       "<Figure size 720x576 with 2 Axes>"
      ]
     },
     "metadata": {
      "needs_background": "light"
     },
     "output_type": "display_data"
    }
   ],
   "source": [
    "# Heatmap of correlation in used_car data\n",
    "# Karena masih terdapat beberapa outlier di data Price dan Mileage maka digunakan metode Spearman dalam korelasi\n",
    "\n",
    "plt.figure(figsize=(10,8))\n",
    "ax = sns.heatmap(used_car.corr(method='spearman'), annot=True)\n",
    "bottom, top = ax.get_ylim()\n",
    "ax.set_ylim(bottom + 0.5, top - 0.5)"
   ]
  },
  {
   "cell_type": "markdown",
   "metadata": {},
   "source": [
    "Dari plot diatas terlihat bahwa *Engine_Size* dan *Year* memiliki korelasi yang positif terhadap nilai *Price* sedangkan *Mileage* memiliki korelasi yang bernilai negatif. Nilai korelasi tertinggi untuk *Price* dihasilkan dari *Year*, yaitu sebesar 0.4, diikuti dengan *Engine_Size* 0.39 dan *Mileage* -0.26, artinya bahwa semakin baru mobil yang dibuat semakin berpengaruh positif terhadap nilai *Price*.\n",
    "\n",
    "Nilai korelasi yang menarik lainnya yang dapat kita lihat adalah nilai korelasi antara *Year* dan *Mileage* yaitu bernilai tinggi di -0.48. Hal ini dapat dikatakan wajar, karena mobil yang dibuat ditahun yang lama tentu lebih dahulu dioperasikan daripada mobil baru, sehingga nilai *Mileage* mobil-mobil keluaran terbaru bernilai rendah. Selain itu dapat dilihat korelasi *Engine_Size* dan *Year* juga cukup menarik yaitu diangka -0.31, menunjukan bahwa semakin baru mobil yang diproduksi ukuran kapasitas mesin yang digunakan semakin rendah."
   ]
  },
  {
   "cell_type": "code",
   "execution_count": 40,
   "metadata": {
    "scrolled": false
   },
   "outputs": [
    {
     "data": {
      "text/plain": [
       "<matplotlib.axes._subplots.AxesSubplot at 0x20100a56a08>"
      ]
     },
     "execution_count": 40,
     "metadata": {},
     "output_type": "execute_result"
    },
    {
     "data": {
      "image/png": "[encoded data removed]",
      "text/plain": [
       "<Figure size 864x1728 with 3 Axes>"
      ]
     },
     "metadata": {
      "needs_background": "light"
     },
     "output_type": "display_data"
    }
   ],
   "source": [
    "plt.figure(figsize=(12,24))\n",
    "plt.subplot(3,1,1)\n",
    "used_car['Region'].value_counts().plot(kind='bar')\n",
    "plt.subplot(3,1,2)\n",
    "used_car['Make'].value_counts().plot(kind='bar')\n",
    "plt.subplot(3,1,3)\n",
    "used_car['Year'].value_counts().sort_index().plot(kind='bar')"
   ]
  },
  {
   "cell_type": "code",
   "execution_count": 41,
   "metadata": {},
   "outputs": [
    {
     "data": {
      "text/plain": [
       "<matplotlib.axes._subplots.AxesSubplot at 0x20101029488>"
      ]
     },
     "execution_count": 41,
     "metadata": {},
     "output_type": "execute_result"
    },
    {
     "data": {
      "image/png": "[encoded data removed]",
      "text/plain": [
       "<Figure size 864x2160 with 3 Axes>"
      ]
     },
     "metadata": {
      "needs_background": "light"
     },
     "output_type": "display_data"
    }
   ],
   "source": [
    "plt.figure(figsize=(12,30))\n",
    "plt.subplot(3,1,1)\n",
    "sns.boxplot(data=used_car, y='Region',x='Price' )\n",
    "plt.subplot(3,1,2)\n",
    "sns.boxplot(data=used_car, y='Make',x='Price' )\n",
    "plt.subplot(3,1,3)\n",
    "sns.boxplot(data=used_car, y='Year',x='Price', orient='h' )"
   ]
  },
  {
   "cell_type": "markdown",
   "metadata": {},
   "source": [
    "Beberapa hal dapat kita temukan dari plot diatas yaitu:\n",
    "1. Terlihat bahwa daerah yang menawarkan penjualan mobil bekas terbanyak terdapat pada kota Riyadh, Dammam dan Jeddah. Harga penjualan mobil dari beberapa daerah tersebut bervariasi dan yang memiliki median tertinggi yaitu dari  Kota Dammam dan Sakaka. Secara keseluruhan harga mobil tidak terlalu terpengaruh oleh daerahnya berasal.\n",
    "2. Produsen mobil bekas terbanyak yang ditawarkan adalah dari Toyota, Hyundai dan Ford. Sedangkan median harga tertinggi adalah mobil buatan Rolls-Royce, Aston Martin dan Bentley. Mobil buatan Land Rover memiliki rentang harga yang paling tinggi, diikuti dengan mobil buatan dari Porche, Mercedes, BMW, Lexus dan lainnya. Dapat dilihat melalui boxplot bahwa produsen mobil cukup berpengaruh terhadap harga mobil, contohnya mobil-mobil dengan produsen Rolls-Royce, Aston Martin dan Bentley merupakan jenis mobil mewah yang membuat harganya tinggi.\n",
    "3. Mobil yang dijual paling banyak merupakan mobil yang di produksi di Tahun 2015-2019. Median harga untuk mobil dari tahun 1994 mengalami tren kenaikan hingga tahun 2021. Beberapa mobil dibawah tahun 1994 memiliki harga yang cukup tinggi"
   ]
  },
  {
   "cell_type": "code",
   "execution_count": 42,
   "metadata": {},
   "outputs": [
    {
     "data": {
      "text/plain": [
       "<matplotlib.axes._subplots.AxesSubplot at 0x201035d1748>"
      ]
     },
     "execution_count": 42,
     "metadata": {},
     "output_type": "execute_result"
    },
    {
     "data": {
      "image/png": "[encoded data removed]",
      "text/plain": [
       "<Figure size 1080x576 with 3 Axes>"
      ]
     },
     "metadata": {
      "needs_background": "light"
     },
     "output_type": "display_data"
    }
   ],
   "source": [
    "plt.figure(figsize=(15,8))\n",
    "plt.subplot(1,3,1)\n",
    "sns.countplot(used_car['Gear_Type'])\n",
    "plt.subplot(1,3,2)\n",
    "sns.countplot(used_car['Origin'])\n",
    "plt.subplot(1,3,3)\n",
    "sns.countplot(used_car['Options'])"
   ]
  },
  {
   "cell_type": "markdown",
   "metadata": {},
   "source": [
    "Dapat dilihat berdasarkan grafik diatas mobil dengan Automatic Gear Type lebih banyak dijual daripada mobil dengan Manual Gear Type. Importer terbanyak berasal dari Saudi sendiri dan mobil yang ditawarkan terbanyak adalah dengan Full Option."
   ]
  },
  {
   "cell_type": "code",
   "execution_count": 43,
   "metadata": {
    "scrolled": false
   },
   "outputs": [
    {
     "data": {
      "text/plain": [
       "<matplotlib.axes._subplots.AxesSubplot at 0x20102d1abc8>"
      ]
     },
     "execution_count": 43,
     "metadata": {},
     "output_type": "execute_result"
    },
    {
     "data": {
      "image/png": "[encoded data removed]",
      "text/plain": [
       "<Figure size 1080x576 with 3 Axes>"
      ]
     },
     "metadata": {
      "needs_background": "light"
     },
     "output_type": "display_data"
    }
   ],
   "source": [
    "plt.figure(figsize=(15,8))\n",
    "plt.subplot(1,3,1)\n",
    "sns.boxplot(data=used_car, y='Price',x='Gear_Type' )\n",
    "plt.subplot(1,3,2)\n",
    "sns.boxplot(data=used_car, y='Price',x='Origin' )\n",
    "plt.subplot(1,3,3)\n",
    "sns.boxplot(data=used_car, y='Price',x='Options' )"
   ]
  },
  {
   "cell_type": "code",
   "execution_count": 44,
   "metadata": {},
   "outputs": [
    {
     "name": "stdout",
     "output_type": "stream",
     "text": [
      "           Year  Engine_Size  Mileage  Price\n",
      "Gear_Type                                   \n",
      "Automatic  2016          3.0    99000  59000\n",
      "Manual     2015          2.7   130000  50000\n",
      "--------\n",
      "             Year  Engine_Size  Mileage  Price\n",
      "Origin                                        \n",
      "Gulf Arabic  2016          3.0    82000  86900\n",
      "Other        2015          3.5   102000  65000\n",
      "Saudi        2016          2.7   105000  55000\n",
      "--------\n",
      "           Year  Engine_Size  Mileage  Price\n",
      "Options                                     \n",
      "Full       2016          3.5    94000  80000\n",
      "Semi Full  2016          3.0   108000  57000\n",
      "Standard   2017          2.4   102111  45000\n"
     ]
    }
   ],
   "source": [
    "print(used_car.groupby(by='Gear_Type').median())\n",
    "print('--------')\n",
    "print(used_car.groupby(by='Origin').median())\n",
    "print('--------')\n",
    "print(used_car.groupby(by='Options').median())"
   ]
  },
  {
   "cell_type": "markdown",
   "metadata": {},
   "source": [
    "Beberapa hal dapat kita simpulkan dari plot diatas:\n",
    "1. Mobil bekas dengan *Gear_Type* tipe 'Automatic' lebih banyak dari pada mobil bekas dengan Gear_Type 'Manual'. Harga yang ditawarkan lebih bervariasi mobil 'Automatic' dan lebih tinggi mediannya daripada mobil 'Manual'.\n",
    "2. 'Saudi' merupakan importir mobil dengan jumlah terbanyak, sedangkan mobil yang di impor oleh Gulf Arabic memiliki median harga yang tertinggi, diikuti oleh daerah lain ('Other') dan 'Saudi'.\n",
    "3. Mobil bekas dengan *Options* 'Full' memiliki jumlah yang paling banyak tetapi tidak signifikan. Harga mobil bekas dengan *Options* Full adalah yang tertinggi, diikuti dengan 'Semi Full' dan 'Standard'."
   ]
  },
  {
   "cell_type": "markdown",
   "metadata": {},
   "source": [
    "### Feature Engineering\n",
    "\n",
    "Disini data yang telah bersih kemudian dilakukan feature engineering (data encoding dan scaling) agar kemudian dapat dimuat ke dalam model regresi."
   ]
  },
  {
   "cell_type": "code",
   "execution_count": 45,
   "metadata": {},
   "outputs": [],
   "source": [
    "# Import Libraries for Feature Engineering\n",
    "\n",
    "import category_encoders as ce\n",
    "from sklearn.preprocessing import OneHotEncoder\n",
    "from sklearn.compose import ColumnTransformer\n",
    "from sklearn.pipeline import Pipeline\n",
    "\n",
    "from sklearn.model_selection import train_test_split, cross_val_score, RandomizedSearchCV, GridSearchCV, KFold\n",
    "\n",
    "from sklearn.preprocessing import StandardScaler"
   ]
  },
  {
   "cell_type": "code",
   "execution_count": 46,
   "metadata": {},
   "outputs": [
    {
     "data": {
      "text/html": [
       "<div>\n",
       "<style scoped>\n",
       "    .dataframe tbody tr th:only-of-type {\n",
       "        vertical-align: middle;\n",
       "    }\n",
       "\n",
       "    .dataframe tbody tr th {\n",
       "        vertical-align: top;\n",
       "    }\n",
       "\n",
       "    .dataframe thead th {\n",
       "        text-align: right;\n",
       "    }\n",
       "</style>\n",
       "<table border=\"1\" class=\"dataframe\">\n",
       "  <thead>\n",
       "    <tr style=\"text-align: right;\">\n",
       "      <th></th>\n",
       "      <th>Type</th>\n",
       "      <th>Region</th>\n",
       "      <th>Make</th>\n",
       "      <th>Gear_Type</th>\n",
       "      <th>Origin</th>\n",
       "      <th>Options</th>\n",
       "      <th>Year</th>\n",
       "      <th>Engine_Size</th>\n",
       "      <th>Mileage</th>\n",
       "      <th>Price</th>\n",
       "    </tr>\n",
       "  </thead>\n",
       "  <tbody>\n",
       "    <tr>\n",
       "      <td>count</td>\n",
       "      <td>3736</td>\n",
       "      <td>3736</td>\n",
       "      <td>3736</td>\n",
       "      <td>3736</td>\n",
       "      <td>3736</td>\n",
       "      <td>3736</td>\n",
       "      <td>3736.000000</td>\n",
       "      <td>3736.000000</td>\n",
       "      <td>3736.000000</td>\n",
       "      <td>3736.000000</td>\n",
       "    </tr>\n",
       "    <tr>\n",
       "      <td>unique</td>\n",
       "      <td>319</td>\n",
       "      <td>27</td>\n",
       "      <td>55</td>\n",
       "      <td>2</td>\n",
       "      <td>3</td>\n",
       "      <td>3</td>\n",
       "      <td>NaN</td>\n",
       "      <td>NaN</td>\n",
       "      <td>NaN</td>\n",
       "      <td>NaN</td>\n",
       "    </tr>\n",
       "    <tr>\n",
       "      <td>top</td>\n",
       "      <td>Accent</td>\n",
       "      <td>Riyadh</td>\n",
       "      <td>Toyota</td>\n",
       "      <td>Automatic</td>\n",
       "      <td>Saudi</td>\n",
       "      <td>Full</td>\n",
       "      <td>NaN</td>\n",
       "      <td>NaN</td>\n",
       "      <td>NaN</td>\n",
       "      <td>NaN</td>\n",
       "    </tr>\n",
       "    <tr>\n",
       "      <td>freq</td>\n",
       "      <td>146</td>\n",
       "      <td>1584</td>\n",
       "      <td>853</td>\n",
       "      <td>3372</td>\n",
       "      <td>2833</td>\n",
       "      <td>1440</td>\n",
       "      <td>NaN</td>\n",
       "      <td>NaN</td>\n",
       "      <td>NaN</td>\n",
       "      <td>NaN</td>\n",
       "    </tr>\n",
       "    <tr>\n",
       "      <td>mean</td>\n",
       "      <td>NaN</td>\n",
       "      <td>NaN</td>\n",
       "      <td>NaN</td>\n",
       "      <td>NaN</td>\n",
       "      <td>NaN</td>\n",
       "      <td>NaN</td>\n",
       "      <td>2015.031585</td>\n",
       "      <td>3.174920</td>\n",
       "      <td>120727.960921</td>\n",
       "      <td>78857.947537</td>\n",
       "    </tr>\n",
       "    <tr>\n",
       "      <td>std</td>\n",
       "      <td>NaN</td>\n",
       "      <td>NaN</td>\n",
       "      <td>NaN</td>\n",
       "      <td>NaN</td>\n",
       "      <td>NaN</td>\n",
       "      <td>NaN</td>\n",
       "      <td>4.905868</td>\n",
       "      <td>1.455877</td>\n",
       "      <td>96757.943825</td>\n",
       "      <td>72757.601085</td>\n",
       "    </tr>\n",
       "    <tr>\n",
       "      <td>min</td>\n",
       "      <td>NaN</td>\n",
       "      <td>NaN</td>\n",
       "      <td>NaN</td>\n",
       "      <td>NaN</td>\n",
       "      <td>NaN</td>\n",
       "      <td>NaN</td>\n",
       "      <td>1963.000000</td>\n",
       "      <td>1.000000</td>\n",
       "      <td>100.000000</td>\n",
       "      <td>500.000000</td>\n",
       "    </tr>\n",
       "    <tr>\n",
       "      <td>25%</td>\n",
       "      <td>NaN</td>\n",
       "      <td>NaN</td>\n",
       "      <td>NaN</td>\n",
       "      <td>NaN</td>\n",
       "      <td>NaN</td>\n",
       "      <td>NaN</td>\n",
       "      <td>2014.000000</td>\n",
       "      <td>2.000000</td>\n",
       "      <td>47000.000000</td>\n",
       "      <td>36000.000000</td>\n",
       "    </tr>\n",
       "    <tr>\n",
       "      <td>50%</td>\n",
       "      <td>NaN</td>\n",
       "      <td>NaN</td>\n",
       "      <td>NaN</td>\n",
       "      <td>NaN</td>\n",
       "      <td>NaN</td>\n",
       "      <td>NaN</td>\n",
       "      <td>2016.000000</td>\n",
       "      <td>2.700000</td>\n",
       "      <td>100000.000000</td>\n",
       "      <td>58000.000000</td>\n",
       "    </tr>\n",
       "    <tr>\n",
       "      <td>75%</td>\n",
       "      <td>NaN</td>\n",
       "      <td>NaN</td>\n",
       "      <td>NaN</td>\n",
       "      <td>NaN</td>\n",
       "      <td>NaN</td>\n",
       "      <td>NaN</td>\n",
       "      <td>2018.000000</td>\n",
       "      <td>4.000000</td>\n",
       "      <td>176424.000000</td>\n",
       "      <td>95000.000000</td>\n",
       "    </tr>\n",
       "    <tr>\n",
       "      <td>max</td>\n",
       "      <td>NaN</td>\n",
       "      <td>NaN</td>\n",
       "      <td>NaN</td>\n",
       "      <td>NaN</td>\n",
       "      <td>NaN</td>\n",
       "      <td>NaN</td>\n",
       "      <td>2021.000000</td>\n",
       "      <td>9.000000</td>\n",
       "      <td>433000.000000</td>\n",
       "      <td>850000.000000</td>\n",
       "    </tr>\n",
       "  </tbody>\n",
       "</table>\n",
       "</div>"
      ],
      "text/plain": [
       "          Type  Region    Make  Gear_Type Origin Options         Year  \\\n",
       "count     3736    3736    3736       3736   3736    3736  3736.000000   \n",
       "unique     319      27      55          2      3       3          NaN   \n",
       "top     Accent  Riyadh  Toyota  Automatic  Saudi    Full          NaN   \n",
       "freq       146    1584     853       3372   2833    1440          NaN   \n",
       "mean       NaN     NaN     NaN        NaN    NaN     NaN  2015.031585   \n",
       "std        NaN     NaN     NaN        NaN    NaN     NaN     4.905868   \n",
       "min        NaN     NaN     NaN        NaN    NaN     NaN  1963.000000   \n",
       "25%        NaN     NaN     NaN        NaN    NaN     NaN  2014.000000   \n",
       "50%        NaN     NaN     NaN        NaN    NaN     NaN  2016.000000   \n",
       "75%        NaN     NaN     NaN        NaN    NaN     NaN  2018.000000   \n",
       "max        NaN     NaN     NaN        NaN    NaN     NaN  2021.000000   \n",
       "\n",
       "        Engine_Size        Mileage          Price  \n",
       "count   3736.000000    3736.000000    3736.000000  \n",
       "unique          NaN            NaN            NaN  \n",
       "top             NaN            NaN            NaN  \n",
       "freq            NaN            NaN            NaN  \n",
       "mean       3.174920  120727.960921   78857.947537  \n",
       "std        1.455877   96757.943825   72757.601085  \n",
       "min        1.000000     100.000000     500.000000  \n",
       "25%        2.000000   47000.000000   36000.000000  \n",
       "50%        2.700000  100000.000000   58000.000000  \n",
       "75%        4.000000  176424.000000   95000.000000  \n",
       "max        9.000000  433000.000000  850000.000000  "
      ]
     },
     "execution_count": 46,
     "metadata": {},
     "output_type": "execute_result"
    }
   ],
   "source": [
    "used_car.describe(include='all')"
   ]
  },
  {
   "cell_type": "markdown",
   "metadata": {},
   "source": [
    "Di dalam data terdapat beberapa fitur yang memiliki tipe data *Object*, agar dapat digunakan di dalam modelling maka fitur-fitur tersebut akan kita ubah (encoding):\n",
    "1. Fitur *Type*, *Region* dan *Make* akan diubah dengan metode binary encoding, karena jumlah unique value yang banyak dan tidak memiliki urutan (ordinal).\n",
    "2. Fitur *Gear_Type*, *Origin* dan *Options* akan diubah dengan metode one hot encoding, karena jumlah unique value yang sedikit dan tidak memiliki urutan tertentu.\n",
    "3. Fitur *Mileage*, *Year* dan *Engine_Size* akan digunakan digunakan metode standard scaler untuk menyamakan skala fitur dalam pemodelan.\n"
   ]
  },
  {
   "cell_type": "code",
   "execution_count": 47,
   "metadata": {},
   "outputs": [],
   "source": [
    "# Encode object features\n",
    "transformer = ColumnTransformer([\n",
    "    ('One Hot', OneHotEncoder(drop='first'), ['Gear_Type', 'Origin', 'Options']),\n",
    "    ('Binary', ce.BinaryEncoder(), ['Type', 'Make','Region'])\n",
    "], remainder='passthrough')"
   ]
  },
  {
   "cell_type": "code",
   "execution_count": 48,
   "metadata": {},
   "outputs": [],
   "source": [
    "# Define dependent and independent variables\n",
    "X = used_car.drop(['Price'], axis=1)\n",
    "y = used_car['Price']"
   ]
  },
  {
   "cell_type": "code",
   "execution_count": 49,
   "metadata": {},
   "outputs": [],
   "source": [
    "# Splitting data training dan test dengan proporsi 70:30\n",
    "X_train, X_test, y_train, y_test= train_test_split(\n",
    "    X,\n",
    "    y,  \n",
    "    test_size=0.3,\n",
    "    random_state=1)"
   ]
  },
  {
   "cell_type": "markdown",
   "metadata": {},
   "source": [
    "## Part 3: Analytics (Modelling and Evaluation)"
   ]
  },
  {
   "cell_type": "code",
   "execution_count": 50,
   "metadata": {},
   "outputs": [],
   "source": [
    "# Import Libraries for modelling\n",
    "from sklearn.linear_model import LinearRegression, ElasticNet, Lasso\n",
    "from sklearn.neighbors import KNeighborsRegressor\n",
    "from sklearn.tree import DecisionTreeRegressor\n",
    "from sklearn.ensemble import RandomForestRegressor, AdaBoostRegressor, GradientBoostingRegressor\n",
    "from xgboost.sklearn import XGBRegressor\n",
    "from sklearn.kernel_ridge import KernelRidge\n",
    "\n",
    "# Import library for tranformed data's features\n",
    "from sklearn.compose import TransformedTargetRegressor\n",
    "\n",
    "# Import Matrix for evaluation\n",
    "from sklearn.metrics import r2_score, mean_squared_error, mean_absolute_error, mean_squared_log_error\n",
    "from sklearn.metrics import mean_absolute_percentage_error"
   ]
  },
  {
   "cell_type": "markdown",
   "metadata": {},
   "source": [
    "### Memilih Model Terbaik"
   ]
  },
  {
   "cell_type": "markdown",
   "metadata": {},
   "source": [
    "Model yang akan digunakan untuk memprediksi nilai *Price* disini ada 10, terdiri dari 6 base model dan 4 model ensemble, yang kemudian dipilih salah satu model terbaik. Model tersebut adalah:\n",
    "\n",
    "Base Model:\n",
    "1. Linear Regression\n",
    "2. KNN Regressor\n",
    "3. Decision Tree Regressor\n",
    "4. Rigde Regression\n",
    "5. Lasso Regression\n",
    "6. Elastic Net\n",
    "\n",
    "Ensemble Model:\n",
    "1. Random Forest Regressor\n",
    "2. Ada Boost Regressor\n",
    "3. Gradient Boosting Regressor\n",
    "4. Xtreme Gradient Boosting Regessor\n",
    "\n",
    "Dalam mendapatkan model yang terbaik, matrix evaluasi yang akan digunakan adalah **Mean Absolute Error (MAE)**, hal ini dikarenakan terdapat range yang tinggi di dalam fitur dependen (Price) dilihat dengan masih banyaknya nilai-nilai outlier dan cenderung tidak terdistribusi normal (Positively skewed)."
   ]
  },
  {
   "cell_type": "code",
   "execution_count": 51,
   "metadata": {},
   "outputs": [
    {
     "name": "stdout",
     "output_type": "stream",
     "text": [
      "[-27649.99367967 -32094.45286354 -27114.30413494 -30075.62578416\n",
      " -29591.83686712] TransformedTargetRegressor(func=<ufunc 'log'>, inverse_func=<ufunc 'exp'>,\n",
      "                           regressor=LinearRegression())\n",
      "[-28168.20281671 -27408.98872552 -26964.36080206 -29465.4295605\n",
      " -27357.95769219] TransformedTargetRegressor(func=<ufunc 'log'>, inverse_func=<ufunc 'exp'>,\n",
      "                           regressor=KNeighborsRegressor())\n",
      "[-26442.90420234 -26769.70554493 -28934.8623327  -31556.10516252\n",
      " -27893.12810707] TransformedTargetRegressor(func=<ufunc 'log'>, inverse_func=<ufunc 'exp'>,\n",
      "                           regressor=DecisionTreeRegressor(random_state=1))\n",
      "[-21890.520754   -22084.96935906 -19753.88920404 -21365.53350876\n",
      " -21288.20672978] TransformedTargetRegressor(func=<ufunc 'log'>, inverse_func=<ufunc 'exp'>,\n",
      "                           regressor=KernelRidge(kernel='polynomial'))\n",
      "[-27657.63617876 -32060.9230872  -27126.28056515 -30072.8451091\n",
      " -29597.11369982] TransformedTargetRegressor(func=<ufunc 'log'>, inverse_func=<ufunc 'exp'>,\n",
      "                           regressor=Lasso(alpha=0.0005, random_state=1))\n",
      "[-27655.80073564 -32076.09679542 -27121.32828048 -30075.3470669\n",
      " -29596.15337883] TransformedTargetRegressor(func=<ufunc 'log'>, inverse_func=<ufunc 'exp'>,\n",
      "                           regressor=ElasticNet(alpha=0.0005, random_state=1))\n",
      "[-18959.20186652 -22632.86113043 -19682.37844916 -22590.27256627\n",
      " -21810.1493514 ] TransformedTargetRegressor(func=<ufunc 'log'>, inverse_func=<ufunc 'exp'>,\n",
      "                           regressor=RandomForestRegressor(random_state=1))\n",
      "[-44872.10789044 -47531.85665695 -38714.08118069 -43480.86947828\n",
      " -41507.13630818] TransformedTargetRegressor(func=<ufunc 'log'>, inverse_func=<ufunc 'exp'>,\n",
      "                           regressor=AdaBoostRegressor(random_state=1))\n",
      "[-22325.77158096 -22871.30156857 -20324.14703558 -23404.62995622\n",
      " -22221.31339901] TransformedTargetRegressor(func=<ufunc 'log'>, inverse_func=<ufunc 'exp'>,\n",
      "                           regressor=GradientBoostingRegressor(random_state=1))\n",
      "[-19660.32412072 -21174.0179357  -19240.97851049 -20737.42437616\n",
      " -20906.00950421] TransformedTargetRegressor(func=<ufunc 'log'>, inverse_func=<ufunc 'exp'>,\n",
      "                           regressor=XGBRegressor(base_score=None, booster=None,\n",
      "                                                  callbacks=None,\n",
      "                                                  colsample_bylevel=None,\n",
      "                                                  colsample_bynode=None,\n",
      "                                                  colsample_bytree=None,\n",
      "                                                  early_stopping_rounds=None,\n",
      "                                                  enable_categorical=False,\n",
      "                                                  eval_metric=None, gamma=None,\n",
      "                                                  gpu_id=None, grow_policy=None,\n",
      "                                                  importance_type=None,\n",
      "                                                  interaction_constraints=None,\n",
      "                                                  learning_rate=None,\n",
      "                                                  max_bin=None,\n",
      "                                                  max_cat_to_onehot=None,\n",
      "                                                  max_delta_step=None,\n",
      "                                                  max_depth=None,\n",
      "                                                  max_leaves=None,\n",
      "                                                  min_child_weight=None,\n",
      "                                                  missing=nan,\n",
      "                                                  monotone_constraints=None,\n",
      "                                                  n_estimators=100, n_jobs=None,\n",
      "                                                  num_parallel_tree=None,\n",
      "                                                  predictor=None,\n",
      "                                                  random_state=1,\n",
      "                                                  reg_alpha=None,\n",
      "                                                  reg_lambda=None, ...))\n"
     ]
    }
   ],
   "source": [
    "# Define Models Algoritm\n",
    "lr = LinearRegression()\n",
    "knn = KNeighborsRegressor()\n",
    "dt = DecisionTreeRegressor(random_state=1)\n",
    "rr = KernelRidge(kernel='polynomial')\n",
    "ls = Lasso(alpha =0.0005, random_state=1)\n",
    "en = ElasticNet(random_state=1, alpha =0.0005)\n",
    "rf = RandomForestRegressor(random_state=1)\n",
    "ada = AdaBoostRegressor(random_state=1)\n",
    "gb = GradientBoostingRegressor(random_state=1)\n",
    "xgb = XGBRegressor(random_state=1)\n",
    "\n",
    "# Scale models to logaricmic and transform to original (normalize)\n",
    "log_lr = TransformedTargetRegressor(lr, func=np.log, inverse_func=np.exp)\n",
    "log_knn = TransformedTargetRegressor(knn, func=np.log, inverse_func=np.exp)\n",
    "log_dt = TransformedTargetRegressor(dt, func=np.log, inverse_func=np.exp)\n",
    "log_rr = TransformedTargetRegressor(rr, func=np.log, inverse_func=np.exp)\n",
    "log_ls = TransformedTargetRegressor(ls, func=np.log, inverse_func=np.exp)\n",
    "log_en = TransformedTargetRegressor(en, func=np.log, inverse_func=np.exp)\n",
    "log_rf = TransformedTargetRegressor(rf, func=np.log, inverse_func=np.exp)\n",
    "log_ada = TransformedTargetRegressor(ada, func=np.log, inverse_func=np.exp)\n",
    "log_gb = TransformedTargetRegressor(gb, func=np.log, inverse_func=np.exp)\n",
    "log_xgb = TransformedTargetRegressor(xgb, func=np.log, inverse_func=np.exp)\n",
    "\n",
    "# Scaling data\n",
    "scaler = StandardScaler()\n",
    "\n",
    "# Models list\n",
    "models = [log_lr, log_knn, log_dt, log_rr, log_ls, log_en, log_rf, log_ada, log_gb, log_xgb]\n",
    "\n",
    "# Each Matrix score stores in the list\n",
    "score_mae = []\n",
    "nilai_mean_mae = []\n",
    "nilai_std_mae = []\n",
    "\n",
    "# Finding best model's matrix score\n",
    "for i in models:\n",
    "    \n",
    "    crossval = KFold(n_splits=5, shuffle=True, random_state=1)\n",
    "\n",
    "    estimator = Pipeline([\n",
    "        ('preprocessing', transformer),\n",
    "        ('scaler', scaler),\n",
    "        ('model', i)\n",
    "    ])\n",
    "\n",
    "    # MAE\n",
    "    model_cv_mae = cross_val_score(\n",
    "        estimator, \n",
    "        X_train, \n",
    "        y_train, \n",
    "        cv=crossval, \n",
    "        scoring='neg_mean_absolute_error', \n",
    "        error_score='raise'\n",
    "        )\n",
    "\n",
    "    print(model_cv_mae, i)\n",
    "\n",
    "    score_mae.append(model_cv_mae)\n",
    "    nilai_mean_mae.append(model_cv_mae.mean())\n",
    "    nilai_std_mae.append(model_cv_mae.std())\n",
    "\n",
    "    \n",
    "\n",
    "    "
   ]
  },
  {
   "cell_type": "code",
   "execution_count": 53,
   "metadata": {
    "scrolled": true
   },
   "outputs": [
    {
     "data": {
      "text/html": [
       "<div>\n",
       "<style scoped>\n",
       "    .dataframe tbody tr th:only-of-type {\n",
       "        vertical-align: middle;\n",
       "    }\n",
       "\n",
       "    .dataframe tbody tr th {\n",
       "        vertical-align: top;\n",
       "    }\n",
       "\n",
       "    .dataframe thead th {\n",
       "        text-align: right;\n",
       "    }\n",
       "</style>\n",
       "<table border=\"1\" class=\"dataframe\">\n",
       "  <thead>\n",
       "    <tr style=\"text-align: right;\">\n",
       "      <th></th>\n",
       "      <th>Model</th>\n",
       "      <th>Mean_MAE</th>\n",
       "      <th>Std_MAE</th>\n",
       "    </tr>\n",
       "  </thead>\n",
       "  <tbody>\n",
       "    <tr>\n",
       "      <td>9</td>\n",
       "      <td>XGBoost Regressor</td>\n",
       "      <td>-20343.750889</td>\n",
       "      <td>754.140040</td>\n",
       "    </tr>\n",
       "    <tr>\n",
       "      <td>6</td>\n",
       "      <td>RandomForest Regressor</td>\n",
       "      <td>-21134.972673</td>\n",
       "      <td>1527.183011</td>\n",
       "    </tr>\n",
       "    <tr>\n",
       "      <td>3</td>\n",
       "      <td>Rigde Regression</td>\n",
       "      <td>-21276.623911</td>\n",
       "      <td>819.396334</td>\n",
       "    </tr>\n",
       "    <tr>\n",
       "      <td>8</td>\n",
       "      <td>Gradient Boosting Regressor</td>\n",
       "      <td>-22229.432708</td>\n",
       "      <td>1042.357405</td>\n",
       "    </tr>\n",
       "    <tr>\n",
       "      <td>1</td>\n",
       "      <td>KNN Regressor</td>\n",
       "      <td>-27872.987919</td>\n",
       "      <td>886.473558</td>\n",
       "    </tr>\n",
       "    <tr>\n",
       "      <td>2</td>\n",
       "      <td>DecisionTree Regressor</td>\n",
       "      <td>-28319.341070</td>\n",
       "      <td>1841.713945</td>\n",
       "    </tr>\n",
       "    <tr>\n",
       "      <td>4</td>\n",
       "      <td>Lasso Regression</td>\n",
       "      <td>-29302.959728</td>\n",
       "      <td>1773.732432</td>\n",
       "    </tr>\n",
       "    <tr>\n",
       "      <td>5</td>\n",
       "      <td>Elastic Net</td>\n",
       "      <td>-29304.945251</td>\n",
       "      <td>1780.194524</td>\n",
       "    </tr>\n",
       "    <tr>\n",
       "      <td>0</td>\n",
       "      <td>Linear Regression</td>\n",
       "      <td>-29305.242666</td>\n",
       "      <td>1788.596140</td>\n",
       "    </tr>\n",
       "    <tr>\n",
       "      <td>7</td>\n",
       "      <td>AdaBoost Regressor</td>\n",
       "      <td>-43221.210303</td>\n",
       "      <td>2987.534780</td>\n",
       "    </tr>\n",
       "  </tbody>\n",
       "</table>\n",
       "</div>"
      ],
      "text/plain": [
       "                         Model      Mean_MAE      Std_MAE\n",
       "9            XGBoost Regressor -20343.750889   754.140040\n",
       "6       RandomForest Regressor -21134.972673  1527.183011\n",
       "3             Rigde Regression -21276.623911   819.396334\n",
       "8  Gradient Boosting Regressor -22229.432708  1042.357405\n",
       "1                KNN Regressor -27872.987919   886.473558\n",
       "2       DecisionTree Regressor -28319.341070  1841.713945\n",
       "4             Lasso Regression -29302.959728  1773.732432\n",
       "5                  Elastic Net -29304.945251  1780.194524\n",
       "0            Linear Regression -29305.242666  1788.596140\n",
       "7           AdaBoost Regressor -43221.210303  2987.534780"
      ]
     },
     "execution_count": 53,
     "metadata": {},
     "output_type": "execute_result"
    }
   ],
   "source": [
    "# Model Matrix Evaluation\n",
    "model_matrix = pd.DataFrame({\n",
    "    'Model': ['Linear Regression', 'KNN Regressor', 'DecisionTree Regressor',  'Rigde Regression', 'Lasso Regression', 'Elastic Net', 'RandomForest Regressor', 'AdaBoost Regressor', 'Gradient Boosting Regressor', 'XGBoost Regressor'],\n",
    "    'Mean_MAE': nilai_mean_mae,\n",
    "    'Std_MAE': nilai_std_mae\n",
    "})\n",
    "model_matrix.sort_values(by='Mean_MAE', ascending=False)"
   ]
  },
  {
   "cell_type": "markdown",
   "metadata": {},
   "source": [
    "Berdasarkan hasil cross valiadation diatas didapatkan bahwa model yang menghasilkan skor terbaik yaitu:\n",
    "1. XGBoost Regressor\n",
    "2. RandomForest Regressor\n",
    "3. Ridge Regression\n",
    "4. Gradient Boosting Regressor\n",
    "5. KNN Regressor\n",
    "\n",
    "Dari hasil cross validation dapat dilihat bahwa **XGBoost Regressor, Random Forest Regressor, Ridge Regression, Gradient Boosting Regressor dan KNN Regressor** adalah model dengan nilai **Mean Absolute Error** paling rendah.\n",
    "\n",
    "Dilihat dari nilai **Standar Deviasi MAE**, nilai Random Forest Regressor cenderung lebih tinggi (dua kali nilai standar deviasi dari XGBoost) yang menunjukan kemungkinan overfitting pada model, sedangkan 4 model lainnya memiliki standar deviasi yang masih rendah.\n",
    "\n",
    "Maka untuk pengujian model berikutnya akan diambil 2 model ensemble yaitu **XGBoost Regressor dan Grandient Boosting Regressor** dan 2 base model yaitu **Ridge Regression dan KNN Regressor** untuk didapatkan model dengan matrix yang terbaik."
   ]
  },
  {
   "cell_type": "code",
   "execution_count": 56,
   "metadata": {},
   "outputs": [
    {
     "data": {
      "text/html": [
       "<div>\n",
       "<style scoped>\n",
       "    .dataframe tbody tr th:only-of-type {\n",
       "        vertical-align: middle;\n",
       "    }\n",
       "\n",
       "    .dataframe tbody tr th {\n",
       "        vertical-align: top;\n",
       "    }\n",
       "\n",
       "    .dataframe thead th {\n",
       "        text-align: right;\n",
       "    }\n",
       "</style>\n",
       "<table border=\"1\" class=\"dataframe\">\n",
       "  <thead>\n",
       "    <tr style=\"text-align: right;\">\n",
       "      <th></th>\n",
       "      <th>MAE</th>\n",
       "    </tr>\n",
       "  </thead>\n",
       "  <tbody>\n",
       "    <tr>\n",
       "      <td>XGB</td>\n",
       "      <td>16659.121715</td>\n",
       "    </tr>\n",
       "    <tr>\n",
       "      <td>Ridge Regression</td>\n",
       "      <td>18275.731051</td>\n",
       "    </tr>\n",
       "    <tr>\n",
       "      <td>Gradient Boosting</td>\n",
       "      <td>21060.810307</td>\n",
       "    </tr>\n",
       "    <tr>\n",
       "      <td>KNN Regressor</td>\n",
       "      <td>23483.828368</td>\n",
       "    </tr>\n",
       "  </tbody>\n",
       "</table>\n",
       "</div>"
      ],
      "text/plain": [
       "                            MAE\n",
       "XGB                16659.121715\n",
       "Ridge Regression   18275.731051\n",
       "Gradient Boosting  21060.810307\n",
       "KNN Regressor      23483.828368"
      ]
     },
     "execution_count": 56,
     "metadata": {},
     "output_type": "execute_result"
    }
   ],
   "source": [
    "# Using Best Models with Test Data\n",
    "models = {\n",
    "    'XGB': XGBRegressor(random_state=1),\n",
    "    'Gradient Boosting': GradientBoostingRegressor(random_state=1),\n",
    "    'Ridge Regression': KernelRidge(kernel='polynomial'),\n",
    "    'KNN Regressor': KNeighborsRegressor()\n",
    "}\n",
    "\n",
    "score_mae = []\n",
    "\n",
    "# Prediksi pada test set\n",
    "for i in models:\n",
    "\n",
    "    model = Pipeline([\n",
    "        ('preprocessing', transformer),\n",
    "        ('scaler', scaler),\n",
    "        ('model', models[i])\n",
    "        ])\n",
    "\n",
    "    model.fit(X_train, y_train)\n",
    "    y_pred = model.predict(X_test)\n",
    "    score_mae.append(mean_absolute_error(y_test, y_pred))\n",
    "\n",
    "score_before_tuning = pd.DataFrame({'MAE': score_mae}, index=models.keys())\n",
    "score_before_tuning.sort_values(by='MAE')"
   ]
  },
  {
   "cell_type": "markdown",
   "metadata": {},
   "source": [
    "Berdasarkan hasil uji terhadap data test diatas, didapatkan bahwa model **Xtreme Gradient Boosting** memiliki score matrix yang terbaik, maka model ini yang akan digunakan untuk memprediksi harga mobil sewa."
   ]
  },
  {
   "cell_type": "markdown",
   "metadata": {},
   "source": [
    "### Hyperparameter Tuning\n",
    "\n",
    "XGBoost adalah salah satu model ensemble machine learning. Teknik yang digunakan adalah menggunakan model decision tree dengan menambahkan pohon (tree) berdasarkan nilai eror/bias, teknik ini disebut boosting. Xtreme Gradient Boosting adalah teknik boosting dengan manambahkan pohon-pohon decision tree hingga menghasilkan nilai bias yang kecil (mendekati nol) dengan batasan parameter-parameter tertentu. Di dalam library XGBoost yang digunakan ini terdapat berbagai macam parameter yang digunakan, sehingga untuk memaksimalkan nilai matrix evaluasi yang digunakan perlu dilakukan hyperparameter tuning.\n",
    "\n",
    "Berikut ini adalah beberapa parameter yang akan digunakan dalam hyperparameter tuning."
   ]
  },
  {
   "cell_type": "code",
   "execution_count": 58,
   "metadata": {},
   "outputs": [],
   "source": [
    "# Maximum depth of a tree\n",
    "max_depth = list(np.arange(2, 30))\n",
    "\n",
    "# Step size shrinkage used in update to prevents overfitting\n",
    "learning_rate = list(np.arange(1, 100)/100)\n",
    "\n",
    "# Number of gradient boosted trees\n",
    "n_estimators = list(np.arange(100, 201))\n",
    "\n",
    "# Subsample ratio of the training instances\n",
    "subsample = list(np.arange(1, 10)/10)\n",
    "\n",
    "# Subsample ratio of columns for each level\n",
    "colsample_bylevel= list(np.arange(1, 10)/10)\n",
    "\n",
    "# L1 regularization term on weights\n",
    "reg_alpha = list(np.logspace(-3, 1, 10)) # Semakin besar nilainya, semakin konservatif/simpel modelnya\n",
    "\n",
    "# Hyperparam space XGboost\n",
    "hyperparam_space_xgb = {\n",
    "    'model__max_depth': max_depth, \n",
    "    'model__learning_rate': learning_rate,\n",
    "    'model__n_estimators': n_estimators,\n",
    "    'model__subsample': subsample,\n",
    "    'model__colsample_bylevel': colsample_bylevel,\n",
    "    'model__reg_alpha': reg_alpha\n",
    "}"
   ]
  },
  {
   "cell_type": "code",
   "execution_count": 59,
   "metadata": {},
   "outputs": [],
   "source": [
    "# Define model for hyperparameter tuning\n",
    "xgb = XGBRegressor(random_state=1, verbosity=0)\n",
    "\n",
    "# Pipeline for algorithm chain\n",
    "estimator_xgb = Pipeline([\n",
    "        ('preprocessing', transformer),\n",
    "        ('scaler', scaler),\n",
    "        ('model', xgb)\n",
    "        ])\n",
    "\n",
    "crossval = KFold(n_splits=5, shuffle=True, random_state=1)\n",
    "\n",
    "# Hyperparameter tuning\n",
    "random_xgb = RandomizedSearchCV(\n",
    "    estimator_xgb, \n",
    "    param_distributions = hyperparam_space_xgb,\n",
    "    n_iter = 50,\n",
    "    cv = crossval, \n",
    "    scoring = ['neg_mean_absolute_error'], \n",
    "    n_jobs = -1,\n",
    "    refit = 'neg_mean_absolute_error',\n",
    "    random_state = 1  \n",
    ")"
   ]
  },
  {
   "cell_type": "code",
   "execution_count": 60,
   "metadata": {},
   "outputs": [
    {
     "data": {
      "text/plain": [
       "RandomizedSearchCV(cv=KFold(n_splits=5, random_state=1, shuffle=True),\n",
       "                   estimator=Pipeline(steps=[('preprocessing',\n",
       "                                              ColumnTransformer(remainder='passthrough',\n",
       "                                                                transformers=[('One '\n",
       "                                                                               'Hot',\n",
       "                                                                               OneHotEncoder(drop='first'),\n",
       "                                                                               ['Gear_Type',\n",
       "                                                                                'Origin',\n",
       "                                                                                'Options']),\n",
       "                                                                              ('Binary',\n",
       "                                                                               BinaryEncoder(),\n",
       "                                                                               ['Type',\n",
       "                                                                                'Make',\n",
       "                                                                                'Region'])])),\n",
       "                                             ('scaler', StandardScaler()),\n",
       "                                             ('model',\n",
       "                                              XGBRegressor(base...\n",
       "                                                                127, 128, 129, ...],\n",
       "                                        'model__reg_alpha': [0.001,\n",
       "                                                             0.0027825594022071257,\n",
       "                                                             0.007742636826811269,\n",
       "                                                             0.021544346900318832,\n",
       "                                                             0.05994842503189409,\n",
       "                                                             0.1668100537200059,\n",
       "                                                             0.46415888336127775,\n",
       "                                                             1.2915496650148828,\n",
       "                                                             3.593813663804626,\n",
       "                                                             10.0],\n",
       "                                        'model__subsample': [0.1, 0.2, 0.3, 0.4,\n",
       "                                                             0.5, 0.6, 0.7, 0.8,\n",
       "                                                             0.9]},\n",
       "                   random_state=1, refit='neg_mean_absolute_error',\n",
       "                   scoring=['neg_mean_absolute_error'])"
      ]
     },
     "execution_count": 60,
     "metadata": {},
     "output_type": "execute_result"
    }
   ],
   "source": [
    "# Fitting data training untuk mencari parameter terbaik\n",
    "random_xgb.fit(X_train, y_train)"
   ]
  },
  {
   "cell_type": "code",
   "execution_count": 61,
   "metadata": {},
   "outputs": [
    {
     "name": "stdout",
     "output_type": "stream",
     "text": [
      "XGBoost\n",
      "Best_score: -18603.625208383128\n",
      "Best_params: {'model__subsample': 0.6, 'model__reg_alpha': 0.0027825594022071257, 'model__n_estimators': 171, 'model__max_depth': 14, 'model__learning_rate': 0.02, 'model__colsample_bylevel': 0.2}\n"
     ]
    }
   ],
   "source": [
    "# Cek skor dan params terbaik\n",
    "print('XGBoost')\n",
    "print('Best_score:', random_xgb.best_score_)\n",
    "print('Best_params:', random_xgb.best_params_)"
   ]
  },
  {
   "cell_type": "code",
   "execution_count": 62,
   "metadata": {},
   "outputs": [
    {
     "data": {
      "text/html": [
       "<div>\n",
       "<style scoped>\n",
       "    .dataframe tbody tr th:only-of-type {\n",
       "        vertical-align: middle;\n",
       "    }\n",
       "\n",
       "    .dataframe tbody tr th {\n",
       "        vertical-align: top;\n",
       "    }\n",
       "\n",
       "    .dataframe thead th {\n",
       "        text-align: right;\n",
       "    }\n",
       "</style>\n",
       "<table border=\"1\" class=\"dataframe\">\n",
       "  <thead>\n",
       "    <tr style=\"text-align: right;\">\n",
       "      <th></th>\n",
       "      <th>MAE</th>\n",
       "    </tr>\n",
       "  </thead>\n",
       "  <tbody>\n",
       "    <tr>\n",
       "      <td>XGB</td>\n",
       "      <td>15757.117075</td>\n",
       "    </tr>\n",
       "  </tbody>\n",
       "</table>\n",
       "</div>"
      ],
      "text/plain": [
       "              MAE\n",
       "XGB  15757.117075"
      ]
     },
     "execution_count": 62,
     "metadata": {},
     "output_type": "execute_result"
    }
   ],
   "source": [
    "# Model XGBoost\n",
    "model = {'XGB': XGBRegressor(random_state=1)}\n",
    "\n",
    "# Define model terhadap estimator terbaik\n",
    "xgb_tuning = random_xgb.best_estimator_\n",
    "\n",
    "# Fitting model\n",
    "xgb_tuning.fit(X_train, y_train)\n",
    "\n",
    "# Predict test set\n",
    "y_pred_xgb_tuning = xgb_tuning.predict(X_test)\n",
    "\n",
    "# Simpan nilai metrics RMSE, MAE & MAPE setelah tuning\n",
    "mae_xgb_tuning = mean_absolute_error(y_test, y_pred_xgb_tuning)\n",
    "\n",
    "score_after_tuning = pd.DataFrame({'MAE': mae_xgb_tuning}, index=model.keys())\n",
    "score_after_tuning"
   ]
  },
  {
   "cell_type": "code",
   "execution_count": 63,
   "metadata": {},
   "outputs": [
    {
     "data": {
      "text/html": [
       "<div>\n",
       "<style scoped>\n",
       "    .dataframe tbody tr th:only-of-type {\n",
       "        vertical-align: middle;\n",
       "    }\n",
       "\n",
       "    .dataframe tbody tr th {\n",
       "        vertical-align: top;\n",
       "    }\n",
       "\n",
       "    .dataframe thead th {\n",
       "        text-align: right;\n",
       "    }\n",
       "</style>\n",
       "<table border=\"1\" class=\"dataframe\">\n",
       "  <thead>\n",
       "    <tr style=\"text-align: right;\">\n",
       "      <th></th>\n",
       "      <th>Before Hyperparameter Tuning</th>\n",
       "      <th>After Hyperparameter Tuning</th>\n",
       "      <th>Change in %</th>\n",
       "    </tr>\n",
       "  </thead>\n",
       "  <tbody>\n",
       "    <tr>\n",
       "      <td>MAE</td>\n",
       "      <td>16659.121715</td>\n",
       "      <td>15757.117075</td>\n",
       "      <td>5.414479</td>\n",
       "    </tr>\n",
       "  </tbody>\n",
       "</table>\n",
       "</div>"
      ],
      "text/plain": [
       "     Before Hyperparameter Tuning  After Hyperparameter Tuning  Change in %\n",
       "MAE                  16659.121715                 15757.117075     5.414479"
      ]
     },
     "execution_count": 63,
     "metadata": {},
     "output_type": "execute_result"
    }
   ],
   "source": [
    "# Rename col before tunning\n",
    "xgb_score_before = pd.DataFrame(score_before_tuning.loc['XGB']).rename({'XGB': 'Before Hyperparameter Tuning'}, axis=1)\n",
    "xgb_score_after = score_after_tuning.T.rename({'XGB': 'After Hyperparameter Tuning'}, axis=1)\n",
    "# Compare result before and after tuning\n",
    "matrix_compare_xgb = pd.concat([xgb_score_before, xgb_score_after], axis=1)\n",
    "# Calculate in percentage\n",
    "matrix_compare_xgb['Change in %'] = (matrix_compare_xgb['Before Hyperparameter Tuning']-matrix_compare_xgb['After Hyperparameter Tuning'])*100/matrix_compare_xgb['Before Hyperparameter Tuning']\n",
    "\n",
    "matrix_compare_xgb"
   ]
  },
  {
   "cell_type": "markdown",
   "metadata": {},
   "source": [
    "Dari tabel diatas dapat dilihat bahwa nilai MAE mengalami perbaikan sebesar 5.4%, karena itu kedepannya parameter hasil Hyperparameter Tuning inilah yang akan digunakan."
   ]
  },
  {
   "cell_type": "markdown",
   "metadata": {},
   "source": [
    "#### Actual vs Predicted Price Value (Tuned)"
   ]
  },
  {
   "cell_type": "code",
   "execution_count": 65,
   "metadata": {},
   "outputs": [
    {
     "data": {
      "image/png": "[encoded data removed]",
      "text/plain": [
       "<Figure size 1008x576 with 1 Axes>"
      ]
     },
     "metadata": {
      "needs_background": "light"
     },
     "output_type": "display_data"
    }
   ],
   "source": [
    "plt.figure(figsize=(14, 8))\n",
    "plot = sns.scatterplot(x=y_test, y=y_pred_xgb_tuning).set(title='Actual vs. Prediction Price', \n",
    "                                               xlabel='Actual Price', \n",
    "                                               ylabel='Predicted Price');"
   ]
  },
  {
   "cell_type": "markdown",
   "metadata": {},
   "source": [
    "Grafik diatas adalah grafik perbandingan antara nilai aktual *Price* dengan nilai hasil prediksi dengan menggunakan model Extreme Gradient Boosting dengan parameter yang telah di tuning. Dari grafik diatas beberapa hal yang dapat ditemukan sebagai berikut.\n",
    "1. Plot nilai hasil prediksi dan nilai sebenarnya terlihat linear meskipun masih terdapat beberapa data yang diluar jalur linearitasnya.\n",
    "2. Beberapa nilai aktual price yang kecil diatas jika dibandingkan dengan predicted value-nya mengalami error yang cukup banyak, hal ini dikarenakan banyaknya data dengan nilai *Price* yang kecil. Hal ini dapat menjadi masukan untuk pemodelan kedepannya agar memberikan batas yang lebih tinggi untuk minimal nilai *Price*.\n",
    "\n",
    "Secara umum model sudah cukup baik berdasarkan matrik evaluasi dan grafik diatas. Berikut adalah parameter-parameter yang sangat berpengaruh terhadap penentuan nilai *Price* pada model."
   ]
  },
  {
   "cell_type": "code",
   "execution_count": 66,
   "metadata": {},
   "outputs": [
    {
     "data": {
      "text/plain": [
       "<matplotlib.axes._subplots.AxesSubplot at 0x20107a0a148>"
      ]
     },
     "execution_count": 66,
     "metadata": {},
     "output_type": "execute_result"
    },
    {
     "data": {
      "image/png": "[encoded data removed]",
      "text/plain": [
       "<Figure size 720x576 with 1 Axes>"
      ]
     },
     "metadata": {
      "needs_background": "light"
     },
     "output_type": "display_data"
    }
   ],
   "source": [
    "# Plot feature importances\n",
    "feature_imp = pd.DataFrame(xgb_tuning['model'].feature_importances_, transformer.get_feature_names(), \n",
    "                           columns=['Value']).sort_values(by='Value', ascending=False)\n",
    "\n",
    "plt.figure(figsize=(10,8))\n",
    "sns.barplot(data=feature_imp, x='Value', y=feature_imp.index)"
   ]
  },
  {
   "cell_type": "markdown",
   "metadata": {},
   "source": [
    "Dari feature importance diatas dapat dilihat bahwa fitur *Make*, *Year* dan *Engine_Size* sangat berpengaruh terhadap model."
   ]
  },
  {
   "cell_type": "markdown",
   "metadata": {},
   "source": [
    "Dalam pembuatan model kedepannya dapat dianalisa besaran nilai VIF untuk menganalisa kolinearitas data yang disediakan. Selain itu juga dapat mengembangkan fitur dengan menggunakan polinomial agar didapatkan model yang lebih baik, tentunya tetap dengan melihat kondisi model yang dibuat apakah underfitting, overfitting atau sudah baik."
   ]
  },
  {
   "cell_type": "markdown",
   "metadata": {},
   "source": [
    "## Part 4: Conclusion and Recommendation"
   ]
  },
  {
   "cell_type": "markdown",
   "metadata": {},
   "source": [
    "### Conclusion\n",
    "\n",
    "Dari analisa dan modelling yang dibuat, telah didapakan model terbaik untuk mendapatkan nilai *Price* berdasarkan fitur-fitur berikut.\n",
    "\n",
    "| Attribute | Data Type| Description |\n",
    "| --- | --- | --- |\n",
    "| Type | Object | Type of used car |\n",
    "| Region | Object | The region in which the used car was offered for sale |\n",
    "| Make | Object | Name of the car company |\n",
    "| Gear_Type | Object | Automatic / Manual |\n",
    "| Origin | Object | Country of importer (Gulf / Saudi / Other) |\n",
    "| Options | Object | Full Options / Semi-Full / Standard |\n",
    "| Year | Int | Year of Manufacturing |\n",
    "| Enginee_Size | Float | The engine size of used car |\n",
    "| Mileage | Int | The distance that used car have travelled, measured in miles |\n",
    "\n",
    "Model yang digunakan menggunakan algoritma Extreme Gradient Boosting dengan parameter yang telah dituning. Berikut adalah hasil matrik evaluasi dari model tersebut."
   ]
  },
  {
   "cell_type": "code",
   "execution_count": 107,
   "metadata": {},
   "outputs": [
    {
     "data": {
      "text/html": [
       "<div>\n",
       "<style scoped>\n",
       "    .dataframe tbody tr th:only-of-type {\n",
       "        vertical-align: middle;\n",
       "    }\n",
       "\n",
       "    .dataframe tbody tr th {\n",
       "        vertical-align: top;\n",
       "    }\n",
       "\n",
       "    .dataframe thead th {\n",
       "        text-align: right;\n",
       "    }\n",
       "</style>\n",
       "<table border=\"1\" class=\"dataframe\">\n",
       "  <thead>\n",
       "    <tr style=\"text-align: right;\">\n",
       "      <th></th>\n",
       "      <th>MAE</th>\n",
       "    </tr>\n",
       "  </thead>\n",
       "  <tbody>\n",
       "    <tr>\n",
       "      <td>XGB</td>\n",
       "      <td>15757.117075</td>\n",
       "    </tr>\n",
       "  </tbody>\n",
       "</table>\n",
       "</div>"
      ],
      "text/plain": [
       "              MAE\n",
       "XGB  15757.117075"
      ]
     },
     "execution_count": 107,
     "metadata": {},
     "output_type": "execute_result"
    }
   ],
   "source": [
    "score_after_tuning"
   ]
  },
  {
   "cell_type": "markdown",
   "metadata": {},
   "source": [
    "Nilai MAE menceritakan bahwa besaran harga *Price* yang diprediksi dapat memiliki selisih dengan nilai sebenarnya (+-) 15757 SAR (MAE). Untuk mobil bekas dengan harga yang tinggi (maks *Price* 850000 SAR) maka nilai error yang dihasilkan (RMSE dan MAE) akan terlihat kecil (1.8%), tetapi untuk mobil bekas dengan harga yang rendah (min *Price* 500 SAR) nilai error akan sangat besar. Oleh karena itu model ini masih ditingkatkan dengan memberikan batasan nilai minimum yang lebih tinggi pada data *Price*.\n",
    "\n",
    "Secara keseluruhan model ini cukup baik untuk memprediksi harga mobil bekas, baik untuk penjual mobil maupun untuk pembeli mobil bekas. Model ini misalnya dapat digunakan oleh website Syarah.com yang menjual mobil bekas sehingga pengunjung website dapat memperkirakan harga jual/beli mobil yang diminatinya dan menaikkan jumlah traksaksi yang terdapat di website tersebut."
   ]
  },
  {
   "cell_type": "markdown",
   "metadata": {},
   "source": [
    "### Recommendation\n",
    "\n",
    "Rekomendasi yang dapat diberikan kedepannya untuk membuat pemodelan yang lebih baik adalah:\n",
    "\n",
    "1. Memberikan batasan minimum nilai price yang lebih tinggi, dikarenakan terdapat beberapa error yang besar untuk nilai prediksi *Price* dengan harga yang rendah. Atau dapat juga dengan memecah model menjadi 2 jenis untuk harga tinggi dan harga rendah dengan masing-masing model yang berbeda.\n",
    "2. Menganalisa kolinearitas fitur-fitur yang digunakan dalam modeling dengan menghitung besaran VIF masing-masing fitur, diharapkan didapatkan model yang lebih baik dengan mengeliminasi fitur yang saling berkorelasi.\n",
    "3. Menggunakan motode polinomial pada fitur agar didapatkan model yang lebih sensitif."
   ]
  },
  {
   "cell_type": "markdown",
   "metadata": {},
   "source": [
    "### Save and Load Model using Pickle"
   ]
  },
  {
   "cell_type": "code",
   "execution_count": 108,
   "metadata": {},
   "outputs": [],
   "source": [
    "# Save Model\n",
    "import pickle\n",
    "file_name = 'used_car_price_model_mae.sav'\n",
    "\n",
    "pickle.dump(xgb_tuning, open(file_name, 'wb'))"
   ]
  },
  {
   "cell_type": "code",
   "execution_count": 109,
   "metadata": {},
   "outputs": [],
   "source": [
    "# Load model\n",
    "file_name = 'used_car_price_model_mae.sav'\n",
    "loaded_model = pickle.load(open(file_name, 'rb'))"
   ]
  },
  {
   "cell_type": "markdown",
   "metadata": {},
   "source": [
    "### Test Model with Random Sample\n",
    "\n",
    "Misalkan pak Mahmud ingin menjual mobilnya Toyota Camry keluaran tahun 2017. Mobilnya memiliki tipe gear otomatis, berasal dari Saudi dengan Full feature. Kapasitas Engine mobil adalah 2.5 ltr dan mobil telah dipakai sejauh 77359 mil. Pak Mahmud berencana memasang iklan mobilnya di website Syarah.com tetapi tidak mengetahui harga pasaran mobilnya, beliau dapat menggunakan model yang telah dibuat untuk dapat mengetahui harga mobilnya tersebut."
   ]
  },
  {
   "cell_type": "markdown",
   "metadata": {},
   "source": [
    "<img src=\"toyotaCamry.png\" alt=\"isolated\" width=\"700\"/>"
   ]
  },
  {
   "cell_type": "code",
   "execution_count": 110,
   "metadata": {},
   "outputs": [
    {
     "data": {
      "text/html": [
       "<div>\n",
       "<style scoped>\n",
       "    .dataframe tbody tr th:only-of-type {\n",
       "        vertical-align: middle;\n",
       "    }\n",
       "\n",
       "    .dataframe tbody tr th {\n",
       "        vertical-align: top;\n",
       "    }\n",
       "\n",
       "    .dataframe thead th {\n",
       "        text-align: right;\n",
       "    }\n",
       "</style>\n",
       "<table border=\"1\" class=\"dataframe\">\n",
       "  <thead>\n",
       "    <tr style=\"text-align: right;\">\n",
       "      <th></th>\n",
       "      <th>Type</th>\n",
       "      <th>Region</th>\n",
       "      <th>Make</th>\n",
       "      <th>Gear_Type</th>\n",
       "      <th>Origin</th>\n",
       "      <th>Options</th>\n",
       "      <th>Year</th>\n",
       "      <th>Engine_Size</th>\n",
       "      <th>Mileage</th>\n",
       "    </tr>\n",
       "  </thead>\n",
       "  <tbody>\n",
       "    <tr>\n",
       "      <td>0</td>\n",
       "      <td>Camry</td>\n",
       "      <td>Al-Medina</td>\n",
       "      <td>Toyota</td>\n",
       "      <td>Automatic</td>\n",
       "      <td>Saudi</td>\n",
       "      <td>Full</td>\n",
       "      <td>2017</td>\n",
       "      <td>2.5</td>\n",
       "      <td>77359</td>\n",
       "    </tr>\n",
       "  </tbody>\n",
       "</table>\n",
       "</div>"
      ],
      "text/plain": [
       "    Type     Region    Make  Gear_Type Origin Options  Year  Engine_Size  \\\n",
       "0  Camry  Al-Medina  Toyota  Automatic  Saudi    Full  2017          2.5   \n",
       "\n",
       "   Mileage  \n",
       "0    77359  "
      ]
     },
     "execution_count": 110,
     "metadata": {},
     "output_type": "execute_result"
    }
   ],
   "source": [
    "sample_predict = pd.DataFrame({\n",
    "    'Type':['Camry'],\n",
    "    'Region':['Al-Medina'],\n",
    "    'Make':['Toyota'],\n",
    "    'Gear_Type':['Automatic'],\n",
    "    'Origin':['Saudi'],\n",
    "    'Options':['Full'],\n",
    "    'Year':[2017],\n",
    "    'Engine_Size':[2.5],\n",
    "    'Mileage':[77359]\n",
    "})\n",
    "\n",
    "sample_predict"
   ]
  },
  {
   "cell_type": "code",
   "execution_count": 111,
   "metadata": {},
   "outputs": [
    {
     "data": {
      "text/plain": [
       "array([69324.5], dtype=float32)"
      ]
     },
     "execution_count": 111,
     "metadata": {},
     "output_type": "execute_result"
    }
   ],
   "source": [
    "loaded_model.predict(sample_predict)"
   ]
  },
  {
   "cell_type": "markdown",
   "metadata": {},
   "source": [
    "Berdasarkan model yang telah kita buat maka pak Budi dapat menjual mobilnya dengan harga sekitar 69324.5 RSA. Pak Mahmud dapat menaikkan sedikit harga dari hasil prediksi agar mendapatkan keuntungan lebih atau mengurangi dari harga prediksi agar mobilnya terjual lebih cepat."
   ]
  },
  {
   "cell_type": "markdown",
   "metadata": {},
   "source": [
    "## Thank you :)"
   ]
  },
  {
   "cell_type": "code",
   "execution_count": null,
   "metadata": {},
   "outputs": [],
   "source": []
  }
 ],
 "metadata": {
  "kernelspec": {
   "display_name": "Python 3",
   "language": "python",
   "name": "python3"
  },
  "language_info": {
   "codemirror_mode": {
    "name": "ipython",
    "version": 3
   },
   "file_extension": ".py",
   "mimetype": "text/x-python",
   "name": "python",
   "nbconvert_exporter": "python",
   "pygments_lexer": "ipython3",
   "version": "3.7.4"
  }
 },
 "nbformat": 4,
 "nbformat_minor": 2
}
